{
 "cells": [
  {
   "cell_type": "code",
   "execution_count": 1,
   "metadata": {},
   "outputs": [],
   "source": [
    "from torch_geometric.utils import to_dgl, stochastic_blockmodel_graph\n",
    "from torch_geometric.data import Data\n",
    "import torch\n",
    "import numpy as np\n",
    "import sys\n",
    "sys.path.append(\"../\")\n",
    "\n",
    "\n",
    "x_train = torch.rand(590,9)\n",
    "\n",
    "d = 4\n",
    "\n",
    "n_P1 = 100 # NUMERO DE SENADORES P1\n",
    "n_P2 = 80 # NUMERO DE SENADORES P2\n",
    "n_L1 = 200 # NUMERO DE LEYES P1\n",
    "n_L2 = 150 # NUMERO DE LEYES P2\n",
    "n_L3 = 60 # NUMERO DE LEYES NEUTRAS\n",
    "\n",
    "P1_L1 = 0.9 ## Votos de senadores del partido 1 a leyes grupo 1\n",
    "P1_L2 = 0.01 ## Votos de senadores del partido 1 a leyes grupo 2\n",
    "P1_L3 = 0.2 ## Votos de senadores del partido 1 a leyes grupo 3\n",
    "P2_L1 = 0.1 ## Votos de senadores del partido 2 a leyes grupo 1\n",
    "P2_L2 = 0.8 ## Votos de senadores del partido 2 a leyes grupo 2\n",
    "P2_L3 = 0.3 ## Votos de senadores del partido 2 a leyes grupo 3\n",
    "\n",
    "p = [\n",
    "    [0, 0, P1_L1, P1_L2, P1_L3],\n",
    "    [0, 0, P2_L1, P2_L2, P2_L3],\n",
    "    [P1_L1, P2_L1, 0, 0, 0], \n",
    "    [P1_L2, P2_L2, 0, 0, 0], \n",
    "    [P1_L3, P2_L3, 0, 0, 0]\n",
    "    ]\n",
    "\n",
    "n = [n_P1, n_P2, n_L1, n_L2, n_L3]\n",
    "\n",
    "num_nodes = np.sum(n)\n",
    "edge_index = stochastic_blockmodel_graph(n, p)\n",
    "\n",
    "data = Data(x=x_train, edge_index=edge_index)\n",
    "g = to_dgl(data)\n"
   ]
  },
  {
   "cell_type": "code",
   "execution_count": 2,
   "metadata": {},
   "outputs": [],
   "source": [
    "from models.link_prediction import GraphTransformerLinkPrediction, train, test\n",
    "\n",
    "def train_link_prediction_GraphTransformer(x_train, x_val, x_test, train_data, val_data, test_data, input_dim, epochs = 101): \n",
    "    device = \"cuda\"\n",
    "    model = GraphTransformerLinkPrediction(input_dim, 128, 64, n_layers=3, dropout=0.5, num_heads=1).to(device)\n",
    "    optimizer = torch.optim.Adam(params=model.parameters(), lr=0.01)\n",
    "    criterion = torch.nn.BCEWithLogitsLoss()\n",
    "    best_val_auc = final_test_auc = 0\n",
    "    for epoch in range(1, epochs):\n",
    "        loss = train(x_train, train_data, model, optimizer, criterion)\n",
    "        val_auc = test(x_val, val_data, model)\n",
    "        test_auc = test(x_test, test_data, model)\n",
    "        if val_auc > best_val_auc:\n",
    "            best_val_auc = val_auc\n",
    "            final_test_auc = test_auc\n",
    "    return model\n"
   ]
  },
  {
   "cell_type": "code",
   "execution_count": 6,
   "metadata": {},
   "outputs": [
    {
     "data": {
      "text/plain": [
       "GraphTransformerLinkPrediction(\n",
       "  (layers): ModuleList(\n",
       "    (0): GraphTransformerLayer(in_channels=9, out_channels=64, heads=4, residual=False)\n",
       "    (1-9): 9 x GraphTransformerLayer(in_channels=64, out_channels=64, heads=4, residual=True)\n",
       "  )\n",
       ")"
      ]
     },
     "execution_count": 6,
     "metadata": {},
     "output_type": "execute_result"
    }
   ],
   "source": [
    "model = GraphTransformerLinkPrediction(9, 64, 64, n_layers=10, dropout=0.5, num_heads=4).to('cuda')\n",
    "\n",
    "model"
   ]
  },
  {
   "cell_type": "code",
   "execution_count": 8,
   "metadata": {},
   "outputs": [
    {
     "ename": "NameError",
     "evalue": "name 'optimizer' is not defined",
     "output_type": "error",
     "traceback": [
      "\u001b[0;31m---------------------------------------------------------------------------\u001b[0m",
      "\u001b[0;31mNameError\u001b[0m                                 Traceback (most recent call last)",
      "Cell \u001b[0;32mIn[8], line 1\u001b[0m\n\u001b[0;32m----> 1\u001b[0m loss \u001b[38;5;241m=\u001b[39m train(x_train, data, model, \u001b[43moptimizer\u001b[49m, criterion)\n",
      "\u001b[0;31mNameError\u001b[0m: name 'optimizer' is not defined"
     ]
    }
   ],
   "source": [
    "loss = train(x_train, data, model, optimizer, criterion)"
   ]
  }
 ],
 "metadata": {
  "kernelspec": {
   "display_name": "lase",
   "language": "python",
   "name": "python3"
  },
  "language_info": {
   "codemirror_mode": {
    "name": "ipython",
    "version": 3
   },
   "file_extension": ".py",
   "mimetype": "text/x-python",
   "name": "python",
   "nbconvert_exporter": "python",
   "pygments_lexer": "ipython3",
   "version": "3.10.12"
  }
 },
 "nbformat": 4,
 "nbformat_minor": 2
}
