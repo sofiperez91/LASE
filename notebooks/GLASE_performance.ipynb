{
 "cells": [
  {
   "cell_type": "code",
   "execution_count": 9,
   "metadata": {},
   "outputs": [],
   "source": [
    "import sys\n",
    "sys.path.append(\"../\")\n",
    "\n",
    "import math\n",
    "import torch\n",
    "import torch_geometric as pyg\n",
    "import numpy as np\n",
    "from models.LASE_unshared_normalized import LASE \n",
    "from models.RDPG_GD import RDPG_GD_Armijo, coordinate_descent\n",
    "from models.SVD_truncate import embed_scipy\n",
    "from models.bigbird_attention import big_bird_attention\n",
    "from graspologic.embed import AdjacencySpectralEmbed \n",
    "from torch_geometric.utils import to_dense_adj, stochastic_blockmodel_graph, erdos_renyi_graph\n",
    "import matplotlib.pyplot as plt\n",
    "import seaborn as sns\n",
    "import pickle\n",
    "from numpy import random\n",
    "import time\n",
    "from networkx import watts_strogatz_graph\n",
    "from torch_geometric.utils.convert import from_networkx\n",
    "from training.get_init import get_x_init\n",
    "from scipy.stats import sem\n",
    "import timeit"
   ]
  },
  {
   "cell_type": "code",
   "execution_count": 6,
   "metadata": {},
   "outputs": [],
   "source": [
    "torch.manual_seed(42)\n",
    "d = 5\n",
    "gd_steps = 5\n",
    "device = 'cuda'\n",
    "\n",
    "# lase_full = LASE(d, d, gd_steps)\n",
    "# lase_full.load_state_dict(torch.load('../saved_models/lase_unshared_d5_normalized_unbalanced.pt'))\n",
    "# lase_full.to(device)\n",
    "# lase_full.eval()\n",
    "\n",
    "# lase_ER05 = LASE(d, d, gd_steps)\n",
    "# lase_ER05.load_state_dict(torch.load('../saved_models/lase_unshared_d5_normalized_unbalanced_ER05.pt'))\n",
    "# lase_ER05.to(device)\n",
    "# lase_ER05.eval()\n",
    "\n",
    "# lase_WS_03_01 = LASE(d, d, gd_steps)\n",
    "# lase_WS_03_01.load_state_dict(torch.load('../saved_models/lase_unshared_d5_normalized_unbalanced_WS_100_01.pt'))\n",
    "# lase_WS_03_01.to(device)\n",
    "# lase_WS_03_01.eval()\n",
    "\n",
    "# lase_WS_01_01 = LASE(d, d, gd_steps)\n",
    "# lase_WS_01_01.load_state_dict(torch.load('../saved_models/lase_unshared_d5_normalized_unbalanced_WS_35_01.pt'))\n",
    "# lase_WS_01_01.to(device)\n",
    "# lase_WS_01_01.eval()\n",
    "\n",
    "# lase_BB_01_002 = LASE(d, d, gd_steps)\n",
    "# lase_BB_01_002.load_state_dict(torch.load('../saved_models/lase_unshared_d5_normalized_unbalanced_BB_01_002.pt'))\n",
    "# lase_BB_01_002.to(device)\n",
    "# lase_BB_01_002.eval()\n",
    "\n",
    "def measure_execution_time(func, *args, loops=10, repetitions=10):\n",
    "    times = np.zeros(repetitions)\n",
    "    for i in range(repetitions):\n",
    "        loop_time = timeit.timeit(lambda: func(*args), number=loops)\n",
    "        times[i] = loop_time / loops\n",
    "    best_time = np.mean(times)\n",
    "    mean_time = np.mean(times)\n",
    "    stderr = sem(times)  \n",
    "    return best_time, mean_time, stderr\n",
    "\n",
    "p = [\n",
    "    [0.9, 0.1, 0.2, 0.2, 0.1],\n",
    "    [0.1, 0.8, 0.1, 0.1, 0.2],\n",
    "    [0.2, 0.1, 0.7, 0.2, 0.1],\n",
    "    [0.2, 0.1, 0.2, 0.8, 0.2],\n",
    "    [0.1, 0.2, 0.1, 0.2, 0.9],\n",
    "]\n",
    "\n",
    "nodes = np.arange(5,55,5)*100"
   ]
  },
  {
   "cell_type": "markdown",
   "metadata": {},
   "source": [
    "# SVD"
   ]
  },
  {
   "cell_type": "code",
   "execution_count": 10,
   "metadata": {},
   "outputs": [
    {
     "name": "stdout",
     "output_type": "stream",
     "text": [
      "500\n",
      "Best execution time over 10 repetitions: 0.14924933 seconds\n",
      "1000\n",
      "Best execution time over 10 repetitions: 0.21725525 seconds\n",
      "1500\n",
      "Best execution time over 10 repetitions: 0.27809597 seconds\n",
      "2000\n",
      "Best execution time over 10 repetitions: 0.32707174 seconds\n",
      "2500\n",
      "Best execution time over 10 repetitions: 0.42246012 seconds\n",
      "3000\n",
      "Best execution time over 10 repetitions: 0.48877824 seconds\n",
      "3500\n",
      "Best execution time over 10 repetitions: 0.58557303 seconds\n",
      "4000\n",
      "Best execution time over 10 repetitions: 0.66652275 seconds\n",
      "4500\n",
      "Best execution time over 10 repetitions: 0.76601891 seconds\n",
      "5000\n",
      "Best execution time over 10 repetitions: 0.91964983 seconds\n",
      "[[0.14924933 0.00418499]\n",
      " [0.21725525 0.00928223]\n",
      " [0.27809597 0.01386187]\n",
      " [0.32707174 0.00831704]\n",
      " [0.42246012 0.01574316]\n",
      " [0.48877824 0.01256507]\n",
      " [0.58557303 0.01264761]\n",
      " [0.66652275 0.01300103]\n",
      " [0.76601891 0.01489261]\n",
      " [0.91964983 0.01295524]]\n"
     ]
    }
   ],
   "source": [
    "svd_exec_time = np.zeros((nodes.shape[0],2))\n",
    "\n",
    "for i, num_nodes in enumerate(nodes):\n",
    "    print(num_nodes)\n",
    "    n = [int(num_nodes/5), int(num_nodes/5), int(num_nodes/5), int(num_nodes/5), int(num_nodes/5)]\n",
    "    edge_index = stochastic_blockmodel_graph(n, p)\n",
    "    best_time, mean_time, std_time = measure_execution_time(embed_scipy, edge_index, d, device)\n",
    "    svd_exec_time[i]=[mean_time, std_time]\n",
    "    print(f\"Best execution time over 10 repetitions: {best_time:.8f} seconds\")\n",
    "    \n",
    "with open('./results/svd_performance.pkl', 'wb') as f:\n",
    "    pickle.dump(svd_exec_time, f)\n",
    "print(svd_exec_time)"
   ]
  },
  {
   "cell_type": "code",
   "execution_count": 11,
   "metadata": {},
   "outputs": [
    {
     "name": "stdout",
     "output_type": "stream",
     "text": [
      "[[0.14924933 0.00418499]\n",
      " [0.21725525 0.00928223]\n",
      " [0.27809597 0.01386187]\n",
      " [0.32707174 0.00831704]\n",
      " [0.42246012 0.01574316]\n",
      " [0.48877824 0.01256507]\n",
      " [0.58557303 0.01264761]\n",
      " [0.66652275 0.01300103]\n",
      " [0.76601891 0.01489261]\n",
      " [0.91964983 0.01295524]]\n"
     ]
    }
   ],
   "source": [
    "print(svd_exec_time)"
   ]
  },
  {
   "cell_type": "markdown",
   "metadata": {},
   "source": [
    "# Coordinate GD"
   ]
  },
  {
   "cell_type": "code",
   "execution_count": 12,
   "metadata": {},
   "outputs": [
    {
     "name": "stdout",
     "output_type": "stream",
     "text": [
      "500\n"
     ]
    },
    {
     "name": "stderr",
     "output_type": "stream",
     "text": [
      "/home/sofia/lase/repo2/LASE/notebooks/../models/RDPG_GD.py:102: UserWarning: The use of `x.T` on tensors of dimension other than 2 to reverse their shape is deprecated and it will throw an error in a future release. Consider `x.mT` to transpose batches of matrices or `x.permute(*torch.arange(x.ndim - 1, -1, -1))` to reverse the dimensions of a tensor. (Triggered internally at ../aten/src/ATen/native/TensorShape.cpp:3571.)\n",
      "  X[i,:] = torch.tensor(solve_linear_system(R,(A[i,:]@X).T,X[i,:]), device=device)\n",
      "/home/sofia/lase/repo2/LASE/notebooks/../models/RDPG_GD.py:102: UserWarning: To copy construct from a tensor, it is recommended to use sourceTensor.clone().detach() or sourceTensor.clone().detach().requires_grad_(True), rather than torch.tensor(sourceTensor).\n",
      "  X[i,:] = torch.tensor(solve_linear_system(R,(A[i,:]@X).T,X[i,:]), device=device)\n"
     ]
    },
    {
     "name": "stdout",
     "output_type": "stream",
     "text": [
      "Best execution time over 5 repetitions: 0.62606275 seconds\n",
      "1000\n"
     ]
    },
    {
     "ename": "AttributeError",
     "evalue": "module 'torch.linalg' has no attribute 'cg'",
     "output_type": "error",
     "traceback": [
      "\u001b[0;31m---------------------------------------------------------------------------\u001b[0m",
      "\u001b[0;31mKeyboardInterrupt\u001b[0m                         Traceback (most recent call last)",
      "File \u001b[0;32m~/lase/repo2/LASE/notebooks/../models/RDPG_GD.py:35\u001b[0m, in \u001b[0;36msolve_linear_system\u001b[0;34m(A, b, xx)\u001b[0m\n\u001b[1;32m     34\u001b[0m \u001b[39mtry\u001b[39;00m:\n\u001b[0;32m---> 35\u001b[0m     result \u001b[39m=\u001b[39m torch\u001b[39m.\u001b[39;49mlinalg\u001b[39m.\u001b[39;49msolve(A, b)\n\u001b[1;32m     36\u001b[0m \u001b[39mexcept\u001b[39;00m:\n",
      "\u001b[0;31mKeyboardInterrupt\u001b[0m: ",
      "\nDuring handling of the above exception, another exception occurred:\n",
      "\u001b[0;31mAttributeError\u001b[0m                            Traceback (most recent call last)",
      "\u001b[1;32m/home/sofia/lase/repo2/LASE/notebooks/GLASE_performance.ipynb Cell 7\u001b[0m line \u001b[0;36m8\n\u001b[1;32m      <a href='vscode-notebook-cell://ssh-remote%2Bgrafos/home/sofia/lase/repo2/LASE/notebooks/GLASE_performance.ipynb#W5sdnNjb2RlLXJlbW90ZQ%3D%3D?line=5'>6</a>\u001b[0m edge_index \u001b[39m=\u001b[39m stochastic_blockmodel_graph(n, p)\u001b[39m.\u001b[39mto(device)\n\u001b[1;32m      <a href='vscode-notebook-cell://ssh-remote%2Bgrafos/home/sofia/lase/repo2/LASE/notebooks/GLASE_performance.ipynb#W5sdnNjb2RlLXJlbW90ZQ%3D%3D?line=6'>7</a>\u001b[0m mask \u001b[39m=\u001b[39m (torch\u001b[39m.\u001b[39mones([num_nodes,num_nodes],)\u001b[39m-\u001b[39mtorch\u001b[39m.\u001b[39meye(num_nodes))\u001b[39m.\u001b[39mnonzero()\u001b[39m.\u001b[39mt()\u001b[39m.\u001b[39mcontiguous()\u001b[39m.\u001b[39mto(device)\n\u001b[0;32m----> <a href='vscode-notebook-cell://ssh-remote%2Bgrafos/home/sofia/lase/repo2/LASE/notebooks/GLASE_performance.ipynb#W5sdnNjb2RlLXJlbW90ZQ%3D%3D?line=7'>8</a>\u001b[0m best_time, mean_time, std_time \u001b[39m=\u001b[39m measure_execution_time(coordinate_descent, edge_index, mask, d, device)\n\u001b[1;32m      <a href='vscode-notebook-cell://ssh-remote%2Bgrafos/home/sofia/lase/repo2/LASE/notebooks/GLASE_performance.ipynb#W5sdnNjb2RlLXJlbW90ZQ%3D%3D?line=8'>9</a>\u001b[0m cgd_exec_time[i]\u001b[39m=\u001b[39m[mean_time, std_time]\n\u001b[1;32m     <a href='vscode-notebook-cell://ssh-remote%2Bgrafos/home/sofia/lase/repo2/LASE/notebooks/GLASE_performance.ipynb#W5sdnNjb2RlLXJlbW90ZQ%3D%3D?line=9'>10</a>\u001b[0m \u001b[39mprint\u001b[39m(\u001b[39mf\u001b[39m\u001b[39m\"\u001b[39m\u001b[39mBest execution time over 5 repetitions: \u001b[39m\u001b[39m{\u001b[39;00mbest_time\u001b[39m:\u001b[39;00m\u001b[39m.8f\u001b[39m\u001b[39m}\u001b[39;00m\u001b[39m seconds\u001b[39m\u001b[39m\"\u001b[39m)\n",
      "\u001b[1;32m/home/sofia/lase/repo2/LASE/notebooks/GLASE_performance.ipynb Cell 7\u001b[0m line \u001b[0;36m3\n\u001b[1;32m     <a href='vscode-notebook-cell://ssh-remote%2Bgrafos/home/sofia/lase/repo2/LASE/notebooks/GLASE_performance.ipynb#W5sdnNjb2RlLXJlbW90ZQ%3D%3D?line=31'>32</a>\u001b[0m times \u001b[39m=\u001b[39m np\u001b[39m.\u001b[39mzeros(repetitions)\n\u001b[1;32m     <a href='vscode-notebook-cell://ssh-remote%2Bgrafos/home/sofia/lase/repo2/LASE/notebooks/GLASE_performance.ipynb#W5sdnNjb2RlLXJlbW90ZQ%3D%3D?line=32'>33</a>\u001b[0m \u001b[39mfor\u001b[39;00m i \u001b[39min\u001b[39;00m \u001b[39mrange\u001b[39m(repetitions):\n\u001b[0;32m---> <a href='vscode-notebook-cell://ssh-remote%2Bgrafos/home/sofia/lase/repo2/LASE/notebooks/GLASE_performance.ipynb#W5sdnNjb2RlLXJlbW90ZQ%3D%3D?line=33'>34</a>\u001b[0m     loop_time \u001b[39m=\u001b[39m timeit\u001b[39m.\u001b[39;49mtimeit(\u001b[39mlambda\u001b[39;49;00m: func(\u001b[39m*\u001b[39;49margs), number\u001b[39m=\u001b[39;49mloops)\n\u001b[1;32m     <a href='vscode-notebook-cell://ssh-remote%2Bgrafos/home/sofia/lase/repo2/LASE/notebooks/GLASE_performance.ipynb#W5sdnNjb2RlLXJlbW90ZQ%3D%3D?line=34'>35</a>\u001b[0m     times[i] \u001b[39m=\u001b[39m loop_time \u001b[39m/\u001b[39m loops\n\u001b[1;32m     <a href='vscode-notebook-cell://ssh-remote%2Bgrafos/home/sofia/lase/repo2/LASE/notebooks/GLASE_performance.ipynb#W5sdnNjb2RlLXJlbW90ZQ%3D%3D?line=35'>36</a>\u001b[0m best_time \u001b[39m=\u001b[39m np\u001b[39m.\u001b[39mmean(times)\n",
      "File \u001b[0;32m/usr/lib/python3.10/timeit.py:234\u001b[0m, in \u001b[0;36mtimeit\u001b[0;34m(stmt, setup, timer, number, globals)\u001b[0m\n\u001b[1;32m    231\u001b[0m \u001b[39mdef\u001b[39;00m \u001b[39mtimeit\u001b[39m(stmt\u001b[39m=\u001b[39m\u001b[39m\"\u001b[39m\u001b[39mpass\u001b[39m\u001b[39m\"\u001b[39m, setup\u001b[39m=\u001b[39m\u001b[39m\"\u001b[39m\u001b[39mpass\u001b[39m\u001b[39m\"\u001b[39m, timer\u001b[39m=\u001b[39mdefault_timer,\n\u001b[1;32m    232\u001b[0m            number\u001b[39m=\u001b[39mdefault_number, \u001b[39mglobals\u001b[39m\u001b[39m=\u001b[39m\u001b[39mNone\u001b[39;00m):\n\u001b[1;32m    233\u001b[0m \u001b[39m    \u001b[39m\u001b[39m\"\"\"Convenience function to create Timer object and call timeit method.\"\"\"\u001b[39;00m\n\u001b[0;32m--> 234\u001b[0m     \u001b[39mreturn\u001b[39;00m Timer(stmt, setup, timer, \u001b[39mglobals\u001b[39;49m)\u001b[39m.\u001b[39;49mtimeit(number)\n",
      "File \u001b[0;32m/usr/lib/python3.10/timeit.py:178\u001b[0m, in \u001b[0;36mTimer.timeit\u001b[0;34m(self, number)\u001b[0m\n\u001b[1;32m    176\u001b[0m gc\u001b[39m.\u001b[39mdisable()\n\u001b[1;32m    177\u001b[0m \u001b[39mtry\u001b[39;00m:\n\u001b[0;32m--> 178\u001b[0m     timing \u001b[39m=\u001b[39m \u001b[39mself\u001b[39;49m\u001b[39m.\u001b[39;49minner(it, \u001b[39mself\u001b[39;49m\u001b[39m.\u001b[39;49mtimer)\n\u001b[1;32m    179\u001b[0m \u001b[39mfinally\u001b[39;00m:\n\u001b[1;32m    180\u001b[0m     \u001b[39mif\u001b[39;00m gcold:\n",
      "File \u001b[0;32m<timeit-src>:6\u001b[0m, in \u001b[0;36minner\u001b[0;34m(_it, _timer, _stmt)\u001b[0m\n",
      "\u001b[1;32m/home/sofia/lase/repo2/LASE/notebooks/GLASE_performance.ipynb Cell 7\u001b[0m line \u001b[0;36m3\n\u001b[1;32m     <a href='vscode-notebook-cell://ssh-remote%2Bgrafos/home/sofia/lase/repo2/LASE/notebooks/GLASE_performance.ipynb#W5sdnNjb2RlLXJlbW90ZQ%3D%3D?line=31'>32</a>\u001b[0m times \u001b[39m=\u001b[39m np\u001b[39m.\u001b[39mzeros(repetitions)\n\u001b[1;32m     <a href='vscode-notebook-cell://ssh-remote%2Bgrafos/home/sofia/lase/repo2/LASE/notebooks/GLASE_performance.ipynb#W5sdnNjb2RlLXJlbW90ZQ%3D%3D?line=32'>33</a>\u001b[0m \u001b[39mfor\u001b[39;00m i \u001b[39min\u001b[39;00m \u001b[39mrange\u001b[39m(repetitions):\n\u001b[0;32m---> <a href='vscode-notebook-cell://ssh-remote%2Bgrafos/home/sofia/lase/repo2/LASE/notebooks/GLASE_performance.ipynb#W5sdnNjb2RlLXJlbW90ZQ%3D%3D?line=33'>34</a>\u001b[0m     loop_time \u001b[39m=\u001b[39m timeit\u001b[39m.\u001b[39mtimeit(\u001b[39mlambda\u001b[39;00m: func(\u001b[39m*\u001b[39;49margs), number\u001b[39m=\u001b[39mloops)\n\u001b[1;32m     <a href='vscode-notebook-cell://ssh-remote%2Bgrafos/home/sofia/lase/repo2/LASE/notebooks/GLASE_performance.ipynb#W5sdnNjb2RlLXJlbW90ZQ%3D%3D?line=34'>35</a>\u001b[0m     times[i] \u001b[39m=\u001b[39m loop_time \u001b[39m/\u001b[39m loops\n\u001b[1;32m     <a href='vscode-notebook-cell://ssh-remote%2Bgrafos/home/sofia/lase/repo2/LASE/notebooks/GLASE_performance.ipynb#W5sdnNjb2RlLXJlbW90ZQ%3D%3D?line=35'>36</a>\u001b[0m best_time \u001b[39m=\u001b[39m np\u001b[39m.\u001b[39mmean(times)\n",
      "File \u001b[0;32m~/lase/repo2/LASE/notebooks/../models/RDPG_GD.py:102\u001b[0m, in \u001b[0;36mcoordinate_descent\u001b[0;34m(edge_index, M, d, device, X, tol)\u001b[0m\n\u001b[1;32m    100\u001b[0m k\u001b[39m=\u001b[39mX[i,:]\u001b[39m.\u001b[39munsqueeze(\u001b[39m0\u001b[39m)\n\u001b[1;32m    101\u001b[0m R \u001b[39m-\u001b[39m\u001b[39m=\u001b[39m k\u001b[39m.\u001b[39mT\u001b[39m@k\u001b[39m\n\u001b[0;32m--> 102\u001b[0m X[i,:] \u001b[39m=\u001b[39m torch\u001b[39m.\u001b[39mtensor(solve_linear_system(R,(A[i,:]\u001b[39m@X\u001b[39;49m)\u001b[39m.\u001b[39;49mT,X[i,:]), device\u001b[39m=\u001b[39mdevice)\n\u001b[1;32m    103\u001b[0m k\u001b[39m=\u001b[39mX[i,:]\u001b[39m.\u001b[39munsqueeze(\u001b[39m0\u001b[39m)\n\u001b[1;32m    104\u001b[0m R \u001b[39m+\u001b[39m\u001b[39m=\u001b[39m k\u001b[39m.\u001b[39mT\u001b[39m@k\u001b[39m\n",
      "File \u001b[0;32m~/lase/repo2/LASE/notebooks/../models/RDPG_GD.py:37\u001b[0m, in \u001b[0;36msolve_linear_system\u001b[0;34m(A, b, xx)\u001b[0m\n\u001b[1;32m     35\u001b[0m     result \u001b[39m=\u001b[39m torch\u001b[39m.\u001b[39mlinalg\u001b[39m.\u001b[39msolve(A, b)\n\u001b[1;32m     36\u001b[0m \u001b[39mexcept\u001b[39;00m:\n\u001b[0;32m---> 37\u001b[0m     result \u001b[39m=\u001b[39m torch\u001b[39m.\u001b[39;49mlinalg\u001b[39m.\u001b[39;49mcg(A, b, x0\u001b[39m=\u001b[39mxx)[\u001b[39m0\u001b[39m]\n\u001b[1;32m     39\u001b[0m \u001b[39mreturn\u001b[39;00m result\n",
      "\u001b[0;31mAttributeError\u001b[0m: module 'torch.linalg' has no attribute 'cg'"
     ]
    }
   ],
   "source": [
    "cgd_exec_time = np.zeros((nodes.shape[0],2))\n",
    "\n",
    "for i, num_nodes in enumerate(nodes):\n",
    "    print(num_nodes)\n",
    "    n = [int(num_nodes/5), int(num_nodes/5), int(num_nodes/5), int(num_nodes/5), int(num_nodes/5)]\n",
    "    edge_index = stochastic_blockmodel_graph(n, p).to(device)\n",
    "    mask = (torch.ones([num_nodes,num_nodes],)-torch.eye(num_nodes)).nonzero().t().contiguous().to(device)\n",
    "    best_time, mean_time, std_time = measure_execution_time(coordinate_descent, edge_index, mask, d, device)\n",
    "    cgd_exec_time[i]=[mean_time, std_time]\n",
    "    print(f\"Best execution time over 5 repetitions: {best_time:.8f} seconds\")\n",
    "\n",
    "with open('./results/coord_gd_performance.pkl', 'wb') as f:\n",
    "    pickle.dump(cgd_exec_time, f)"
   ]
  },
  {
   "cell_type": "markdown",
   "metadata": {},
   "source": [
    "# LASE Full"
   ]
  },
  {
   "cell_type": "code",
   "execution_count": null,
   "metadata": {},
   "outputs": [],
   "source": [
    "lase_full_exec_time = np.zeros((nodes.shape[0],2))\n",
    "\n",
    "for i, num_nodes in enumerate(nodes):\n",
    "    print(num_nodes)\n",
    "    n = [int(num_nodes/5), int(num_nodes/5), int(num_nodes/5), int(num_nodes/5), int(num_nodes/5)]\n",
    "    x = torch.rand((num_nodes, d)).to(device)\n",
    "    edge_index = stochastic_blockmodel_graph(n, p).to(device)\n",
    "    edge_index_2 = torch.ones([num_nodes,num_nodes],).nonzero().t().contiguous().to(device)\n",
    "    mask = (torch.ones([num_nodes,num_nodes],)-torch.eye(num_nodes)).nonzero().t().contiguous().to(device)\n",
    "    best_time, mean_time, std_time = measure_execution_time(lase_full, x, edge_index, edge_index_2, mask)\n",
    "    lase_full_exec_time[i]=[mean_time, std_time]\n",
    "    print(f\"Best execution time over 5 repetitions: {best_time:.8f} seconds\")\n",
    "    \n",
    "with open('./results/lase_full_performance.pkl', 'wb') as f:\n",
    "    pickle.dump(lase_full_exec_time, f)"
   ]
  },
  {
   "cell_type": "markdown",
   "metadata": {},
   "source": [
    "# LASE ER 05"
   ]
  },
  {
   "cell_type": "code",
   "execution_count": 8,
   "metadata": {},
   "outputs": [
    {
     "name": "stdout",
     "output_type": "stream",
     "text": [
      "500\n",
      "Best execution time over 5 repetitions: 0.01683839 seconds\n",
      "1000\n",
      "Best execution time over 5 repetitions: 0.04160210 seconds\n",
      "1500\n",
      "Best execution time over 5 repetitions: 0.07675113 seconds\n",
      "2000\n",
      "Best execution time over 5 repetitions: 0.12313727 seconds\n",
      "2500\n",
      "Best execution time over 5 repetitions: 0.18049614 seconds\n",
      "3000\n",
      "Best execution time over 5 repetitions: 0.24913418 seconds\n",
      "3500\n",
      "Best execution time over 5 repetitions: 0.32787430 seconds\n",
      "4000\n",
      "Best execution time over 5 repetitions: 0.41988318 seconds\n",
      "4500\n",
      "Best execution time over 5 repetitions: 0.52259423 seconds\n",
      "5000\n",
      "Best execution time over 5 repetitions: 0.64020392 seconds\n"
     ]
    }
   ],
   "source": [
    "lase_ER05_exec_time = np.zeros((nodes.shape[0],2))\n",
    "\n",
    "for i, num_nodes in enumerate(nodes):\n",
    "    print(num_nodes)\n",
    "    n = [int(num_nodes/5), int(num_nodes/5), int(num_nodes/5), int(num_nodes/5), int(num_nodes/5)]\n",
    "    x = torch.rand((num_nodes, d)).to(device)\n",
    "    edge_index = stochastic_blockmodel_graph(n, p).to(device)\n",
    "    ER05 = erdos_renyi_graph(num_nodes, 0.5, directed=False).to(device)\n",
    "    mask = (torch.ones([num_nodes,num_nodes],)-torch.eye(num_nodes)).nonzero().t().contiguous().to(device)\n",
    "    best_time, mean_time, std_time = measure_execution_time(lase_ER05, x, edge_index, ER05, mask)\n",
    "    lase_ER05_exec_time[i]=[mean_time, std_time]\n",
    "    print(f\"Best execution time over 5 repetitions: {best_time:.8f} seconds\")\n",
    "    \n",
    "with open('./results/lase_ER05_performance.pkl', 'wb') as f:\n",
    "    pickle.dump(lase_ER05_exec_time, f)"
   ]
  },
  {
   "cell_type": "markdown",
   "metadata": {},
   "source": [
    "# LASE WS 03"
   ]
  },
  {
   "cell_type": "code",
   "execution_count": 12,
   "metadata": {},
   "outputs": [
    {
     "name": "stdout",
     "output_type": "stream",
     "text": [
      "500\n",
      "Best execution time over 5 repetitions: 0.01573648 seconds\n",
      "1000\n",
      "Best execution time over 5 repetitions: 0.03613871 seconds\n",
      "1500\n",
      "Best execution time over 5 repetitions: 0.06545321 seconds\n",
      "2000\n",
      "Best execution time over 5 repetitions: 0.10352596 seconds\n",
      "2500\n",
      "Best execution time over 5 repetitions: 0.14736459 seconds\n",
      "3000\n",
      "Best execution time over 5 repetitions: 0.20072704 seconds\n",
      "3500\n",
      "Best execution time over 5 repetitions: 0.26315945 seconds\n",
      "4000\n",
      "Best execution time over 5 repetitions: 0.33540689 seconds\n",
      "4500\n",
      "Best execution time over 5 repetitions: 0.41588093 seconds\n",
      "5000\n",
      "Best execution time over 5 repetitions: 0.50782996 seconds\n"
     ]
    }
   ],
   "source": [
    "lase_WS03_exec_time = np.zeros((nodes.shape[0],2))\n",
    "\n",
    "for i, num_nodes in enumerate(nodes):\n",
    "    print(num_nodes)\n",
    "    n = [int(num_nodes/5), int(num_nodes/5), int(num_nodes/5), int(num_nodes/5), int(num_nodes/5)]\n",
    "    x = torch.rand((num_nodes, d)).to(device)\n",
    "    edge_index = stochastic_blockmodel_graph(n, p).to(device)\n",
    "    WS_0301 = from_networkx(watts_strogatz_graph(num_nodes, int(num_nodes*0.3), 0.1, seed=None)).edge_index.to(device)\n",
    "    \n",
    "    mask = (torch.ones([num_nodes,num_nodes],)-torch.eye(num_nodes)).nonzero().t().contiguous().to(device)\n",
    "    best_time, mean_time, std_time = measure_execution_time(lase_WS_03_01, x, edge_index, WS_0301, mask)\n",
    "    lase_WS03_exec_time[i]=[mean_time, std_time]\n",
    "    print(f\"Best execution time over 5 repetitions: {best_time:.8f} seconds\")\n",
    "    \n",
    "with open('./results/lase_WS03_performance.pkl', 'wb') as f:\n",
    "    pickle.dump(lase_WS03_exec_time, f)"
   ]
  },
  {
   "cell_type": "markdown",
   "metadata": {},
   "source": [
    "# LASE WS 01"
   ]
  },
  {
   "cell_type": "code",
   "execution_count": 10,
   "metadata": {},
   "outputs": [
    {
     "name": "stdout",
     "output_type": "stream",
     "text": [
      "500\n",
      "Best execution time over 5 repetitions: 0.01503214 seconds\n",
      "1000\n",
      "Best execution time over 5 repetitions: 0.03064062 seconds\n",
      "1500\n",
      "Best execution time over 5 repetitions: 0.05325626 seconds\n",
      "2000\n",
      "Best execution time over 5 repetitions: 0.08114310 seconds\n",
      "2500\n",
      "Best execution time over 5 repetitions: 0.11482639 seconds\n",
      "3000\n",
      "Best execution time over 5 repetitions: 0.15368516 seconds\n",
      "3500\n",
      "Best execution time over 5 repetitions: 0.19929042 seconds\n",
      "4000\n",
      "Best execution time over 5 repetitions: 0.25226731 seconds\n",
      "4500\n",
      "Best execution time over 5 repetitions: 0.31047780 seconds\n",
      "5000\n",
      "Best execution time over 5 repetitions: 0.37812094 seconds\n"
     ]
    }
   ],
   "source": [
    "lase_WS01_exec_time = np.zeros((nodes.shape[0],2))\n",
    "\n",
    "for i, num_nodes in enumerate(nodes):\n",
    "    print(num_nodes)\n",
    "    n = [int(num_nodes/5), int(num_nodes/5), int(num_nodes/5), int(num_nodes/5), int(num_nodes/5)]\n",
    "    x = torch.rand((num_nodes, d)).to(device)\n",
    "    edge_index = stochastic_blockmodel_graph(n, p).to(device)\n",
    "    WS_0101 = from_networkx(watts_strogatz_graph(num_nodes, int(num_nodes*0.1), 0.1, seed=None)).edge_index.to(device)\n",
    "    mask = (torch.ones([num_nodes,num_nodes],)-torch.eye(num_nodes)).nonzero().t().contiguous().to(device)\n",
    "    best_time, mean_time, std_time = measure_execution_time(lase_WS_01_01, x, edge_index, WS_0101, mask)\n",
    "    lase_WS01_exec_time[i]=[mean_time, std_time]\n",
    "    print(f\"Best execution time over 5 repetitions: {best_time:.8f} seconds\")\n",
    "    \n",
    "with open('./results/lase_WS01_performance.pkl', 'wb') as f:\n",
    "    pickle.dump(lase_WS01_exec_time, f)"
   ]
  },
  {
   "cell_type": "markdown",
   "metadata": {},
   "source": [
    "# LASE BB 01"
   ]
  },
  {
   "cell_type": "code",
   "execution_count": 11,
   "metadata": {},
   "outputs": [
    {
     "name": "stdout",
     "output_type": "stream",
     "text": [
      "500\n",
      "Best execution time over 5 repetitions: 0.01471469 seconds\n",
      "1000\n",
      "Best execution time over 5 repetitions: 0.02978448 seconds\n",
      "1500\n",
      "Best execution time over 5 repetitions: 0.04963408 seconds\n",
      "2000\n",
      "Best execution time over 5 repetitions: 0.07471279 seconds\n",
      "2500\n",
      "Best execution time over 5 repetitions: 0.10520448 seconds\n",
      "3000\n",
      "Best execution time over 5 repetitions: 0.13994590 seconds\n",
      "3500\n",
      "Best execution time over 5 repetitions: 0.18109347 seconds\n",
      "4000\n",
      "Best execution time over 5 repetitions: 0.22811582 seconds\n",
      "4500\n",
      "Best execution time over 5 repetitions: 0.27989164 seconds\n",
      "5000\n",
      "Best execution time over 5 repetitions: 0.34039300 seconds\n"
     ]
    }
   ],
   "source": [
    "lase_BB01_exec_time = np.zeros((nodes.shape[0],2))\n",
    "\n",
    "for i, num_nodes in enumerate(nodes):\n",
    "    print(num_nodes)\n",
    "    n = [int(num_nodes/5), int(num_nodes/5), int(num_nodes/5), int(num_nodes/5), int(num_nodes/5)]\n",
    "    x = torch.rand((num_nodes, d)).to(device)\n",
    "    edge_index = stochastic_blockmodel_graph(n, p).to(device)\n",
    "    BB_0101 = from_networkx(watts_strogatz_graph(num_nodes, int(num_nodes*0.043), 0.02, seed=None)).edge_index.to(device)\n",
    "    mask = (torch.ones([num_nodes,num_nodes],)-torch.eye(num_nodes)).nonzero().t().contiguous().to(device)\n",
    "    best_time, mean_time, std_time = measure_execution_time(lase_BB_01_002, x, edge_index, BB_0101, mask)\n",
    "    lase_BB01_exec_time[i]=[mean_time, std_time]\n",
    "    print(f\"Best execution time over 5 repetitions: {best_time:.8f} seconds\")\n",
    "    \n",
    "with open('./results/lase_BB01_performance.pkl', 'wb') as f:\n",
    "    pickle.dump(lase_BB01_exec_time, f)"
   ]
  },
  {
   "cell_type": "markdown",
   "metadata": {},
   "source": [
    "# Performance comparison"
   ]
  },
  {
   "cell_type": "code",
   "execution_count": 13,
   "metadata": {},
   "outputs": [
    {
     "data": {
      "image/png": "[encoded data removed]",
      "text/plain": [
       "<Figure size 640x480 with 1 Axes>"
      ]
     },
     "metadata": {},
     "output_type": "display_data"
    }
   ],
   "source": [
    "with open('./results/svd_performance.pkl', 'rb') as f:\n",
    "    svd_exec_time = pickle.load(f)\n",
    "\n",
    "with open('./results/coord_gd_performance.pkl', 'rb') as f:\n",
    "    cgd_exec_time = pickle.load(f)\n",
    "\n",
    "with open('./results/lase_full_performance.pkl', 'rb') as f:\n",
    "    lase_full_exec_time = pickle.load(f)\n",
    "    \n",
    "with open('./results/lase_ER05_performance.pkl', 'rb') as f:\n",
    "    lase_ER05_exec_time = pickle.load(f)\n",
    "        \n",
    "with open('./results/lase_WS03_performance.pkl', 'rb') as f:\n",
    "    lase_WS03_exec_time = pickle.load(f)\n",
    "\n",
    "with open('./results/lase_WS01_performance.pkl', 'rb') as f:\n",
    "    lase_WS01_exec_time = pickle.load(f)\n",
    "\n",
    "with open('./results/lase_BB01_performance.pkl', 'rb') as f:\n",
    "    lase_BB01_exec_time = pickle.load(f) \n",
    "\n",
    "nodes = np.arange(5,55,5)*100\n",
    "\n",
    "plt.figure()\n",
    "plt.scatter(nodes, svd_exec_time[:,0], c ='blue', label = 'SVD Truncate')\n",
    "plt.plot(nodes, svd_exec_time[:,0], c ='blue')\n",
    "plt.scatter(nodes, cgd_exec_time[:,0], c ='green', label = 'Coordinate GD')\n",
    "plt.plot(nodes, cgd_exec_time[:,0], c ='green')\n",
    "plt.scatter(nodes, lase_full_exec_time[:,0], c ='red', label = 'LASE Full Attention')\n",
    "plt.plot(nodes, lase_full_exec_time[:,0], c ='red')\n",
    "plt.scatter(nodes, lase_ER05_exec_time[:,0], c ='orange', label = 'LASE ER05 Attention')\n",
    "plt.plot(nodes, lase_ER05_exec_time[:,0], c ='orange')\n",
    "plt.scatter(nodes, lase_WS03_exec_time[:,0], c ='pink', label = 'LASE WS03 Attention')\n",
    "plt.plot(nodes, lase_WS03_exec_time[:,0], c ='pink')\n",
    "plt.scatter(nodes, lase_WS01_exec_time[:,0], c ='cyan', label = 'LASE WS01 Attention')\n",
    "plt.plot(nodes, lase_WS01_exec_time[:,0], c ='cyan')\n",
    "plt.scatter(nodes, lase_BB01_exec_time[:,0], c ='purple', label = 'LASE BB01 Attention')\n",
    "plt.plot(nodes, lase_BB01_exec_time[:,0], c ='purple')\n",
    "plt.legend()\n",
    "plt.show()"
   ]
  },
  {
   "cell_type": "code",
   "execution_count": 20,
   "metadata": {},
   "outputs": [
    {
     "name": "stdout",
     "output_type": "stream",
     "text": [
      "[[3.06406168e-02 3.56710083e-05]\n",
      " [8.11430984e-02 3.45446802e-05]\n",
      " [1.53685158e-01 2.02579652e-04]\n",
      " [2.52267307e-01 1.17025368e-04]\n",
      " [3.78120940e-01 6.09728637e-05]]\n",
      "[[2.97844848e-02 2.58745809e-05]\n",
      " [7.47127941e-02 3.67122971e-05]\n",
      " [1.39945899e-01 9.50751745e-05]\n",
      " [2.28115818e-01 8.96932867e-05]\n",
      " [3.40393000e-01 1.24653867e-04]]\n"
     ]
    }
   ],
   "source": [
    "# print(svd_exec_time[[1,3,5,7,9]])\n",
    "# print(cgd_exec_time[[1,3,5,7,9]])\n",
    "# print(lase_full_exec_time[[1,3,5,7,9]])\n",
    "# # print(lase_ER05_exec_time)\n",
    "# print(lase_WS03_exec_time[[1,3,5,7,9]])\n",
    "print(lase_WS01_exec_time[[1,3,5,7,9]])\n",
    "print(lase_BB01_exec_time[[1,3,5,7,9]])"
   ]
  },
  {
   "cell_type": "code",
   "execution_count": 6,
   "metadata": {},
   "outputs": [
    {
     "data": {
      "text/plain": [
       "0.3542025208903087"
      ]
     },
     "execution_count": 6,
     "metadata": {},
     "output_type": "execute_result"
    }
   ],
   "source": [
    "lase_BB01_exec_time[9,0]/lase_full_exec_time[9,0]"
   ]
  },
  {
   "cell_type": "code",
   "execution_count": 7,
   "metadata": {},
   "outputs": [
    {
     "data": {
      "text/plain": [
       "2.823243599414374"
      ]
     },
     "execution_count": 7,
     "metadata": {},
     "output_type": "execute_result"
    }
   ],
   "source": [
    "lase_full_exec_time[9,0]/lase_BB01_exec_time[9,0]"
   ]
  },
  {
   "cell_type": "code",
   "execution_count": 8,
   "metadata": {},
   "outputs": [
    {
     "data": {
      "text/plain": [
       "8.126036033507559"
      ]
     },
     "execution_count": 8,
     "metadata": {},
     "output_type": "execute_result"
    }
   ],
   "source": [
    "cgd_exec_time[9,0]/lase_BB01_exec_time[9,0]"
   ]
  },
  {
   "cell_type": "code",
   "execution_count": 9,
   "metadata": {},
   "outputs": [
    {
     "data": {
      "text/plain": [
       "1.6586467835619363"
      ]
     },
     "execution_count": 9,
     "metadata": {},
     "output_type": "execute_result"
    }
   ],
   "source": [
    "svd_exec_time[9,0] / lase_BB01_exec_time[9,0]"
   ]
  }
 ],
 "metadata": {
  "kernelspec": {
   "display_name": "lase",
   "language": "python",
   "name": "python3"
  },
  "language_info": {
   "codemirror_mode": {
    "name": "ipython",
    "version": 3
   },
   "file_extension": ".py",
   "mimetype": "text/x-python",
   "name": "python",
   "nbconvert_exporter": "python",
   "pygments_lexer": "ipython3",
   "version": "3.10.12"
  }
 },
 "nbformat": 4,
 "nbformat_minor": 2
}
