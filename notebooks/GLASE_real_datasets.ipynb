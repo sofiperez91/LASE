{
 "cells": [
  {
   "cell_type": "code",
   "execution_count": 11,
   "metadata": {},
   "outputs": [],
   "source": [
    "import sys\n",
    "sys.path.append(\"../\")\n",
    "\n",
    "import pickle\n",
    "import numpy as np\n",
    "from scipy.stats import sem\n",
    "\n",
    "import pandas as pd\n",
    "import numpy as np"
   ]
  },
  {
   "cell_type": "markdown",
   "metadata": {},
   "source": [
    "# Cora"
   ]
  },
  {
   "cell_type": "markdown",
   "metadata": {},
   "source": [
    "### Full"
   ]
  },
  {
   "cell_type": "code",
   "execution_count": 8,
   "metadata": {},
   "outputs": [
    {
     "name": "stdout",
     "output_type": "stream",
     "text": [
      "86.8 +/- 0.4\n",
      "86.4 +/- 0.6\n",
      "86.4 +/- 0.3\n",
      "86.9 +/- 0.3\n"
     ]
    }
   ],
   "source": [
    "FEAT_RESULTS = '../training/results/cora/cora_features_GAT_results_FULL_d6.pkl'\n",
    "ASE_RESULTS = '../training/results/cora/cora_ase_GAT_results_FULL_d6.pkl'\n",
    "GLASE_RESULTS = '../training/results/cora/cora_glase_GAT_results_FULL_d6.pkl'\n",
    "GLASE_RESULTS_E2E = '../training/results/cora/cora_glase_e2e_results_FULL_d6.pkl'\n",
    "\n",
    "\n",
    "with open(FEAT_RESULTS, 'rb') as f:\n",
    "    feat_results = pickle.load(f)\n",
    "    \n",
    "with open(ASE_RESULTS, 'rb') as f:\n",
    "    ase_results = pickle.load(f)\n",
    "\n",
    "with open(GLASE_RESULTS, 'rb') as f:\n",
    "    glase_results = pickle.load(f)\n",
    "    \n",
    "with open(GLASE_RESULTS_E2E, 'rb') as f:\n",
    "    glase_results_e2e = pickle.load(f)\n",
    "    \n",
    "\n",
    "print(f'{np.array(feat_results).mean()*100:.1f} +/- {sem(feat_results)*100:.1f}')\n",
    "print(f'{np.array(ase_results).mean()*100:.1f} +/- {sem(ase_results)*100:.1f}')\n",
    "print(f'{np.array(glase_results).mean()*100:.1f} +/- {sem(glase_results)*100:.1f}')\n",
    "print(f'{np.array(glase_results_e2e).mean()*100:.1f} +/- {sem(glase_results_e2e)*100:.1f}')"
   ]
  },
  {
   "cell_type": "markdown",
   "metadata": {},
   "source": [
    "### M08"
   ]
  },
  {
   "cell_type": "code",
   "execution_count": 27,
   "metadata": {},
   "outputs": [
    {
     "name": "stdout",
     "output_type": "stream",
     "text": [
      "84.6 +/- 0.3\n",
      "85.0 +/- 0.5\n",
      "85.8 +/- 0.3\n",
      "85.8 +/- 0.6\n"
     ]
    }
   ],
   "source": [
    "FEAT_RESULTS = '../training/results/cora/cora_features_GAT_results_M08_d6.pkl'\n",
    "ASE_RESULTS = '../training/results/cora/cora_ase_GAT_results_M08_d6.pkl'\n",
    "GLASE_RESULTS = '../training/results/cora/cora_glase_GAT_results_M08_d6.pkl'\n",
    "GLASE_RESULTS_E2E = '../training/results/cora/cora_glase_e2e_results_M08_d6.pkl'\n",
    "\n",
    "with open(FEAT_RESULTS, 'rb') as f:\n",
    "    feat_results = pickle.load(f)\n",
    "    \n",
    "with open(ASE_RESULTS, 'rb') as f:\n",
    "    ase_results = pickle.load(f)\n",
    "\n",
    "with open(GLASE_RESULTS, 'rb') as f:\n",
    "    glase_results = pickle.load(f)\n",
    "    \n",
    "with open(GLASE_RESULTS_E2E, 'rb') as f:\n",
    "    glase_results_e2e = pickle.load(f)\n",
    "\n",
    "\n",
    "print(f'{np.array(feat_results).mean()*100:.1f} +/- {sem(feat_results)*100:.1f}')\n",
    "print(f'{np.array(ase_results).mean()*100:.1f} +/- {sem(ase_results)*100:.1f}')\n",
    "print(f'{np.array(glase_results).mean()*100:.1f} +/- {sem(glase_results)*100:.1f}')\n",
    "print(f'{np.array(glase_results_e2e).mean()*100:.1f} +/- {sem(glase_results_e2e)*100:.1f}')"
   ]
  },
  {
   "cell_type": "markdown",
   "metadata": {},
   "source": [
    "### M06"
   ]
  },
  {
   "cell_type": "code",
   "execution_count": 36,
   "metadata": {},
   "outputs": [
    {
     "name": "stdout",
     "output_type": "stream",
     "text": [
      "83.1 +/- 0.3\n",
      "83.2 +/- 0.5\n",
      "84.3 +/- 0.4\n",
      "85.4 +/- 0.5\n"
     ]
    }
   ],
   "source": [
    "FEAT_RESULTS = '../training/results/cora/cora_features_GAT_results_M06_d6.pkl'\n",
    "ASE_RESULTS = '../training/results/cora/cora_ase_GAT_results_M06_d6.pkl'\n",
    "GLASE_RESULTS = '../training/results/cora/cora_glase_GAT_results_M06_d6.pkl'\n",
    "GLASE_RESULTS_E2E = '../training/results/cora/cora_glase_e2e_results_M06_d6.pkl'\n",
    "\n",
    "\n",
    "with open(FEAT_RESULTS, 'rb') as f:\n",
    "    feat_results = pickle.load(f)\n",
    "    \n",
    "with open(ASE_RESULTS, 'rb') as f:\n",
    "    ase_results = pickle.load(f)\n",
    "\n",
    "with open(GLASE_RESULTS, 'rb') as f:\n",
    "    glase_results = pickle.load(f)\n",
    "    \n",
    "with open(GLASE_RESULTS_E2E, 'rb') as f:\n",
    "    glase_results_e2e = pickle.load(f)\n",
    "\n",
    "\n",
    "print(f'{np.array(feat_results).mean()*100:.1f}  c {sem(feat_results)*100:.1f}')\n",
    "print(f'{np.array(ase_results).mean()*100:.1f} +/- {sem(ase_results)*100:.1f}')\n",
    "print(f'{np.array(glase_results).mean()*100:.1f} +/- {sem(glase_results)*100:.1f}')\n",
    "print(f'{np.array(glase_results_e2e).mean()*100:.1f} +/- {sem(glase_results_e2e)*100:.1f}')"
   ]
  },
  {
   "cell_type": "markdown",
   "metadata": {},
   "source": [
    "### M04"
   ]
  },
  {
   "cell_type": "code",
   "execution_count": 45,
   "metadata": {},
   "outputs": [
    {
     "name": "stdout",
     "output_type": "stream",
     "text": [
      "79.3 +/- 0.5\n",
      "79.0 +/- 0.3\n",
      "83.2 +/- 0.6\n",
      "85.5 +/- 0.6\n"
     ]
    }
   ],
   "source": [
    "FEAT_RESULTS = '../training/results/cora/cora_features_GAT_results_M04_d6.pkl'\n",
    "ASE_RESULTS = '../training/results/cora/cora_ase_GAT_results_M04_d6.pkl'\n",
    "GLASE_RESULTS = '../training/results/cora/cora_glase_GAT_results_M04_d6.pkl'\n",
    "GLASE_RESULTS_E2E = '../training/results/cora/cora_glase_e2e_results_M04_d6.pkl'\n",
    "\n",
    "\n",
    "with open(FEAT_RESULTS, 'rb') as f:\n",
    "    feat_results = pickle.load(f)\n",
    "    \n",
    "with open(ASE_RESULTS, 'rb') as f:\n",
    "    ase_results = pickle.load(f)\n",
    "\n",
    "with open(GLASE_RESULTS, 'rb') as f:\n",
    "    glase_results = pickle.load(f)\n",
    "    \n",
    "with open(GLASE_RESULTS_E2E, 'rb') as f:\n",
    "    glase_results_e2e = pickle.load(f)\n",
    "    \n",
    "\n",
    "print(f'{np.array(feat_results).mean()*100:.1f} +/- {sem(feat_results)*100:.1f}')\n",
    "print(f'{np.array(ase_results).mean()*100:.1f} +/- {sem(ase_results)*100:.1f}')\n",
    "print(f'{np.array(glase_results).mean()*100:.1f} +/- {sem(glase_results)*100:.1f}')\n",
    "print(f'{np.array(glase_results_e2e).mean()*100:.1f} +/- {sem(glase_results_e2e)*100:.1f}')"
   ]
  },
  {
   "cell_type": "markdown",
   "metadata": {},
   "source": [
    "### M02"
   ]
  },
  {
   "cell_type": "code",
   "execution_count": 49,
   "metadata": {},
   "outputs": [
    {
     "name": "stdout",
     "output_type": "stream",
     "text": [
      "73.8 +/- 0.8\n",
      "73.0 +/- 0.6\n",
      "79.6 +/- 0.4\n",
      "84.6 +/- 0.5\n"
     ]
    }
   ],
   "source": [
    "FEAT_RESULTS = '../training/results/cora/cora_features_GAT_results_M02_d6.pkl'\n",
    "ASE_RESULTS = '../training/results/cora/cora_ase_GAT_results_M02_d6.pkl'\n",
    "GLASE_RESULTS = '../training/results/cora/cora_glase_GAT_results_M02_d6.pkl'\n",
    "GLASE_RESULTS_E2E = '../training/results/cora/cora_glase_e2e_results_M02_d6.pkl'\n",
    "\n",
    "\n",
    "with open(FEAT_RESULTS, 'rb') as f:\n",
    "    feat_results = pickle.load(f)\n",
    "    \n",
    "with open(ASE_RESULTS, 'rb') as f:\n",
    "    ase_results = pickle.load(f)\n",
    "\n",
    "with open(GLASE_RESULTS, 'rb') as f:\n",
    "    glase_results = pickle.load(f)\n",
    "    \n",
    "with open(GLASE_RESULTS_E2E, 'rb') as f:\n",
    "    glase_results_e2e = pickle.load(f)\n",
    "    \n",
    "\n",
    "print(f'{np.array(feat_results).mean()*100:.1f} +/- {sem(feat_results)*100:.1f}')\n",
    "print(f'{np.array(ase_results).mean()*100:.1f} +/- {sem(ase_results)*100:.1f}')\n",
    "print(f'{np.array(glase_results).mean()*100:.1f} +/- {sem(glase_results)*100:.1f}')\n",
    "print(f'{np.array(glase_results_e2e).mean()*100:.1f} +/- {sem(glase_results_e2e)*100:.1f}')"
   ]
  },
  {
   "cell_type": "markdown",
   "metadata": {},
   "source": [
    "# Amazon"
   ]
  },
  {
   "cell_type": "code",
   "execution_count": 12,
   "metadata": {},
   "outputs": [],
   "source": [
    "# Function to remove outliers using the IQR\n",
    "def remove_outliers(series):\n",
    "    Q1 = series.quantile(0.25)\n",
    "    Q3 = series.quantile(0.75)\n",
    "    IQR = Q3 - Q1\n",
    "    lower_bound = Q1 - 1.5 * IQR\n",
    "    upper_bound = Q3 + 1.5 * IQR\n",
    "    \n",
    "    return series[(series >= lower_bound) & (series <= upper_bound)]"
   ]
  },
  {
   "cell_type": "markdown",
   "metadata": {},
   "source": [
    "### Full"
   ]
  },
  {
   "cell_type": "code",
   "execution_count": 103,
   "metadata": {},
   "outputs": [
    {
     "name": "stdout",
     "output_type": "stream",
     "text": [
      "94.3 +/- 0.6\n",
      "93.9 +/- 0.6\n",
      "94.2 +/- 0.6\n",
      "94.4 +/- 0.4\n"
     ]
    }
   ],
   "source": [
    "FEAT_RESULTS_FULL = '../training/results/amazon/amazon_features_GAT_results_FULL_d8.pkl'\n",
    "ASE_RESULTS_FULL = '../training/results/amazon/amazon_ase_GAT_results_FULL_d8.pkl'\n",
    "GLASE_RESULTS_FULL = '../training/results/amazon/amazon_glase_GAT_results_FULL_d8.pkl'\n",
    "GLASE_E2E_RESULTS_FULL = '../training/results/amazon/amazon_glase_e2e_results_FULL_d8.pkl'\n",
    "\n",
    "\n",
    "with open(FEAT_RESULTS_FULL, 'rb') as f:\n",
    "    feat_results_full = pickle.load(f)\n",
    "\n",
    "with open(ASE_RESULTS_FULL, 'rb') as f:\n",
    "    ase_results_full = pickle.load(f)\n",
    "\n",
    "with open(GLASE_RESULTS_FULL, 'rb') as f:\n",
    "    glase_results_full = pickle.load(f)\n",
    "    \n",
    "with open(GLASE_E2E_RESULTS_FULL, 'rb') as f:\n",
    "    glase_e2e_results_full = pickle.load(f)\n",
    "\n",
    "print(f'{remove_outliers(pd.Series(feat_results_full)).mean()*100:.1f} +/- {remove_outliers(pd.Series(feat_results_full)).std()*100:.1f}')\n",
    "print(f'{remove_outliers(pd.Series(ase_results_full)).mean()*100:.1f} +/- {remove_outliers(pd.Series(ase_results_full)).std()*100:.1f}')\n",
    "print(f'{remove_outliers(pd.Series(glase_results_full)).mean()*100:.1f} +/- {remove_outliers(pd.Series(glase_results_full)).std()*100:.1f}')\n",
    "print(f'{remove_outliers(pd.Series(glase_e2e_results_full)).mean()*100:.1f} +/- {remove_outliers(pd.Series(glase_e2e_results_full)).std()*100:.1f}')"
   ]
  },
  {
   "cell_type": "markdown",
   "metadata": {},
   "source": [
    "### M08"
   ]
  },
  {
   "cell_type": "code",
   "execution_count": 104,
   "metadata": {},
   "outputs": [
    {
     "name": "stdout",
     "output_type": "stream",
     "text": [
      "94.2 +/- 0.4\n",
      "94.0 +/- 0.5\n",
      "93.7 +/- 0.8\n",
      "94.3 +/- 0.6\n"
     ]
    }
   ],
   "source": [
    "FEAT_RESULTS_M08 = '../training/results/amazon/amazon_features_GAT_results_M08_d8.pkl'\n",
    "ASE_RESULTS_M08 = '../training/results/amazon/amazon_ase_GAT_results_M08_d8.pkl'\n",
    "GLASE_RESULTS_M08 = '../training/results/amazon/amazon_glase_GAT_results_M08_d8.pkl'\n",
    "GLASE_E2E_RESULTS_M08 = '../training/results/amazon/amazon_glase_e2e_results_M08_d8.pkl'\n",
    "\n",
    "with open(FEAT_RESULTS_M08, 'rb') as f:\n",
    "    feat_results_M08 = pickle.load(f)\n",
    "\n",
    "with open(ASE_RESULTS_M08, 'rb') as f:\n",
    "    ase_results_M08 = pickle.load(f)\n",
    "\n",
    "with open(GLASE_RESULTS_M08, 'rb') as f:\n",
    "    glase_results_M08 = pickle.load(f)\n",
    "\n",
    "with open(GLASE_E2E_RESULTS_M08, 'rb') as f:\n",
    "    glase_e2e_results_M08 = pickle.load(f)\n",
    "\n",
    "print(f'{remove_outliers(pd.Series(feat_results_M08)).mean()*100:.1f} +/- {remove_outliers(pd.Series(feat_results_M08)).std()*100:.1f}')\n",
    "print(f'{remove_outliers(pd.Series(ase_results_M08)).mean()*100:.1f} +/- {remove_outliers(pd.Series(ase_results_M08)).std()*100:.1f}')\n",
    "print(f'{remove_outliers(pd.Series(glase_results_M08)).mean()*100:.1f} +/- {remove_outliers(pd.Series(glase_results_M08)).std()*100:.1f}')\n",
    "print(f'{remove_outliers(pd.Series(glase_e2e_results_M08)).mean()*100:.1f} +/- {remove_outliers(pd.Series(glase_e2e_results_M08)).std()*100:.1f}')"
   ]
  },
  {
   "cell_type": "markdown",
   "metadata": {},
   "source": [
    "### M06"
   ]
  },
  {
   "cell_type": "code",
   "execution_count": 105,
   "metadata": {},
   "outputs": [
    {
     "name": "stdout",
     "output_type": "stream",
     "text": [
      "93.9 +/- 0.7\n",
      "93.6 +/- 1.5\n",
      "93.8 +/- 0.6\n",
      "94.0 +/- 0.3\n"
     ]
    }
   ],
   "source": [
    "FEAT_RESULTS_M06 = '../training/results/amazon/amazon_features_GAT_results_M06_d8.pkl'\n",
    "ASE_RESULTS_M06 = '../training/results/amazon/amazon_ase_GAT_results_M06_d8.pkl'\n",
    "GLASE_RESULTS_M06 = '../training/results/amazon/amazon_glase_GAT_results_M06_d8.pkl'\n",
    "GLASE_E2E_RESULTS_M06 = '../training/results/amazon/amazon_glase_e2e_results_M06_d8.pkl'\n",
    "\n",
    "with open(FEAT_RESULTS_M06, 'rb') as f:\n",
    "    feat_results_M06 = pickle.load(f)\n",
    "\n",
    "with open(ASE_RESULTS_M06, 'rb') as f:\n",
    "    ase_results_M06 = pickle.load(f)\n",
    "\n",
    "with open(GLASE_RESULTS_M06, 'rb') as f:\n",
    "    glase_results_M06 = pickle.load(f)\n",
    "\n",
    "with open(GLASE_E2E_RESULTS_M06, 'rb') as f:\n",
    "    glase_e2e_results_M06 = pickle.load(f)\n",
    "\n",
    "\n",
    "print(f'{remove_outliers(pd.Series(feat_results_M06)).mean()*100:.1f} +/- {remove_outliers(pd.Series(feat_results_M06)).std()*100:.1f}')\n",
    "print(f'{remove_outliers(pd.Series(ase_results_M06)).mean()*100:.1f} +/- {remove_outliers(pd.Series(ase_results_M06)).std()*100:.1f}')\n",
    "print(f'{remove_outliers(pd.Series(glase_results_M06)).mean()*100:.1f} +/- {remove_outliers(pd.Series(glase_results_M06)).std()*100:.1f}')\n",
    "print(f'{remove_outliers(pd.Series(glase_e2e_results_M06)).mean()*100:.1f} +/- {remove_outliers(pd.Series(glase_e2e_results_M06)).std()*100:.1f}')"
   ]
  },
  {
   "cell_type": "markdown",
   "metadata": {},
   "source": [
    "### M04"
   ]
  },
  {
   "cell_type": "code",
   "execution_count": 106,
   "metadata": {},
   "outputs": [
    {
     "name": "stdout",
     "output_type": "stream",
     "text": [
      "93.5 +/- 0.6\n",
      "93.5 +/- 0.5\n",
      "93.1 +/- 0.9\n",
      "94.0 +/- 0.6\n"
     ]
    }
   ],
   "source": [
    "FEAT_RESULTS_M04 = '../training/results/amazon/amazon_features_GAT_results_M04_d8.pkl'\n",
    "ASE_RESULTS_M04 = '../training/results/amazon/amazon_ase_GAT_results_M04_d8.pkl'\n",
    "GLASE_RESULTS_M04 = '../training/results/amazon/amazon_glase_GAT_results_M04_d8.pkl'\n",
    "GLASE_E2E_RESULTS_M04 = '../training/results/amazon/amazon_glase_e2e_results_M04_d8.pkl'\n",
    "\n",
    "with open(FEAT_RESULTS_M04, 'rb') as f:\n",
    "    feat_results_M04 = pickle.load(f)\n",
    "\n",
    "with open(ASE_RESULTS_M04, 'rb') as f:\n",
    "    ase_results_M04 = pickle.load(f)\n",
    "\n",
    "with open(GLASE_RESULTS_M04, 'rb') as f:\n",
    "    glase_results_M04 = pickle.load(f)\n",
    "\n",
    "with open(GLASE_E2E_RESULTS_M04, 'rb') as f:\n",
    "    glase_e2e_results_M04 = pickle.load(f)\n",
    "\n",
    "print(f'{remove_outliers(pd.Series(feat_results_M04)).mean()*100:.1f} +/- {remove_outliers(pd.Series(feat_results_M04)).std()*100:.1f}')\n",
    "print(f'{remove_outliers(pd.Series(ase_results_M04)).mean()*100:.1f} +/- {remove_outliers(pd.Series(ase_results_M04)).std()*100:.1f}')\n",
    "print(f'{remove_outliers(pd.Series(glase_results_M04)).mean()*100:.1f} +/- {remove_outliers(pd.Series(glase_results_M04)).std()*100:.1f}')\n",
    "print(f'{remove_outliers(pd.Series(glase_e2e_results_M04)).mean()*100:.1f} +/- {remove_outliers(pd.Series(glase_e2e_results_M04)).std()*100:.1f}')"
   ]
  },
  {
   "cell_type": "markdown",
   "metadata": {},
   "source": [
    "### M02"
   ]
  },
  {
   "cell_type": "code",
   "execution_count": 107,
   "metadata": {},
   "outputs": [
    {
     "name": "stdout",
     "output_type": "stream",
     "text": [
      "92.9 +/- 0.7\n",
      "92.9 +/- 0.6\n",
      "92.6 +/- 0.7\n",
      "93.3 +/- 0.6\n"
     ]
    }
   ],
   "source": [
    "FEAT_RESULTS_M02 = '../training/results/amazon/amazon_features_GAT_results_M02_d8.pkl'\n",
    "ASE_RESULTS_M02 = '../training/results/amazon/amazon_ase_GAT_results_M02_d8.pkl'\n",
    "GLASE_RESULTS_M02 = '../training/results/amazon/amazon_glase_GAT_results_M02_d8.pkl'\n",
    "GLASE_E2E_RESULTS_M02 = '../training/results/amazon/amazon_glase_e2e_results_M02_d8.pkl'\n",
    "\n",
    "with open(FEAT_RESULTS_M02, 'rb') as f:\n",
    "    feat_results_M02 = pickle.load(f)\n",
    "\n",
    "with open(ASE_RESULTS_M02, 'rb') as f:\n",
    "    ase_results_M02 = pickle.load(f)\n",
    "\n",
    "with open(GLASE_RESULTS_M02, 'rb') as f:\n",
    "    glase_results_M02 = pickle.load(f)\n",
    "\n",
    "with open(GLASE_E2E_RESULTS_M02, 'rb') as f:\n",
    "    glase_e2e_results_M02 = pickle.load(f)\n",
    "\n",
    "\n",
    "print(f'{remove_outliers(pd.Series(feat_results_M02)).mean()*100:.1f} +/- {remove_outliers(pd.Series(feat_results_M02)).std()*100:.1f}')\n",
    "print(f'{remove_outliers(pd.Series(ase_results_M02)).mean()*100:.1f} +/- {remove_outliers(pd.Series(ase_results_M02)).std()*100:.1f}')\n",
    "print(f'{remove_outliers(pd.Series(glase_results_M02)).mean()*100:.1f} +/- {remove_outliers(pd.Series(glase_results_M02)).std()*100:.1f}')\n",
    "print(f'{remove_outliers(pd.Series(glase_e2e_results_M02)).mean()*100:.1f} +/- {remove_outliers(pd.Series(glase_e2e_results_M02)).std()*100:.1f}')"
   ]
  }
 ],
 "metadata": {
  "kernelspec": {
   "display_name": "lase",
   "language": "python",
   "name": "python3"
  },
  "language_info": {
   "codemirror_mode": {
    "name": "ipython",
    "version": 3
   },
   "file_extension": ".py",
   "mimetype": "text/x-python",
   "name": "python",
   "nbconvert_exporter": "python",
   "pygments_lexer": "ipython3",
   "version": "3.10.12"
  }
 },
 "nbformat": 4,
 "nbformat_minor": 2
}
