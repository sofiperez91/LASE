{
 "cells": [
  {
   "cell_type": "code",
   "execution_count": 1,
   "metadata": {},
   "outputs": [
    {
     "name": "stderr",
     "output_type": "stream",
     "text": [
      "/home/sofia/lase/repo/LASE/env/lib/python3.9/site-packages/tqdm/auto.py:21: TqdmWarning: IProgress not found. Please update jupyter and ipywidgets. See https://ipywidgets.readthedocs.io/en/stable/user_install.html\n",
      "  from .autonotebook import tqdm as notebook_tqdm\n"
     ]
    }
   ],
   "source": [
    "import sys\n",
    "sys.path.append(\"../\")\n",
    "\n",
    "import pickle\n",
    "import numpy as np\n",
    "from scipy.stats import sem\n",
    "import pandas as pd\n",
    "import matplotlib.pyplot as plt \n",
    "\n",
    "import networkx as nx\n",
    "from graspologic.embed import AdjacencySpectralEmbed\n",
    "from torch_geometric.datasets import Airports, KarateClub\n",
    "from torch_geometric.utils import to_networkx\n"
   ]
  },
  {
   "cell_type": "markdown",
   "metadata": {},
   "source": [
    "# Cora"
   ]
  },
  {
   "cell_type": "markdown",
   "metadata": {},
   "source": [
    "### Full"
   ]
  },
  {
   "cell_type": "code",
   "execution_count": 8,
   "metadata": {},
   "outputs": [
    {
     "name": "stdout",
     "output_type": "stream",
     "text": [
      "86.8 +/- 0.4\n",
      "86.4 +/- 0.6\n",
      "86.4 +/- 0.3\n",
      "86.9 +/- 0.3\n"
     ]
    }
   ],
   "source": [
    "FEAT_RESULTS = '../training/results/cora/cora_features_GAT_results_FULL_d6.pkl'\n",
    "ASE_RESULTS = '../training/results/cora/cora_ase_GAT_results_FULL_d6.pkl'\n",
    "GLASE_RESULTS = '../training/results/cora/cora_glase_GAT_results_FULL_d6.pkl'\n",
    "GLASE_RESULTS_E2E = '../training/results/cora/cora_glase_e2e_results_FULL_d6.pkl'\n",
    "\n",
    "\n",
    "with open(FEAT_RESULTS, 'rb') as f:\n",
    "    feat_results = pickle.load(f)\n",
    "    \n",
    "with open(ASE_RESULTS, 'rb') as f:\n",
    "    ase_results = pickle.load(f)\n",
    "\n",
    "with open(GLASE_RESULTS, 'rb') as f:\n",
    "    glase_results = pickle.load(f)\n",
    "    \n",
    "with open(GLASE_RESULTS_E2E, 'rb') as f:\n",
    "    glase_results_e2e = pickle.load(f)\n",
    "    \n",
    "\n",
    "print(f'{np.array(feat_results).mean()*100:.1f} +/- {sem(feat_results)*100:.1f}')\n",
    "print(f'{np.array(ase_results).mean()*100:.1f} +/- {sem(ase_results)*100:.1f}')\n",
    "print(f'{np.array(glase_results).mean()*100:.1f} +/- {sem(glase_results)*100:.1f}')\n",
    "print(f'{np.array(glase_results_e2e).mean()*100:.1f} +/- {sem(glase_results_e2e)*100:.1f}')"
   ]
  },
  {
   "cell_type": "markdown",
   "metadata": {},
   "source": [
    "### M08"
   ]
  },
  {
   "cell_type": "code",
   "execution_count": 27,
   "metadata": {},
   "outputs": [
    {
     "name": "stdout",
     "output_type": "stream",
     "text": [
      "84.6 +/- 0.3\n",
      "85.0 +/- 0.5\n",
      "85.8 +/- 0.3\n",
      "85.8 +/- 0.6\n"
     ]
    }
   ],
   "source": [
    "FEAT_RESULTS = '../training/results/cora/cora_features_GAT_results_M08_d6.pkl'\n",
    "ASE_RESULTS = '../training/results/cora/cora_ase_GAT_results_M08_d6.pkl'\n",
    "GLASE_RESULTS = '../training/results/cora/cora_glase_GAT_results_M08_d6.pkl'\n",
    "GLASE_RESULTS_E2E = '../training/results/cora/cora_glase_e2e_results_M08_d6.pkl'\n",
    "\n",
    "with open(FEAT_RESULTS, 'rb') as f:\n",
    "    feat_results = pickle.load(f)\n",
    "    \n",
    "with open(ASE_RESULTS, 'rb') as f:\n",
    "    ase_results = pickle.load(f)\n",
    "\n",
    "with open(GLASE_RESULTS, 'rb') as f:\n",
    "    glase_results = pickle.load(f)\n",
    "    \n",
    "with open(GLASE_RESULTS_E2E, 'rb') as f:\n",
    "    glase_results_e2e = pickle.load(f)\n",
    "\n",
    "\n",
    "print(f'{np.array(feat_results).mean()*100:.1f} +/- {sem(feat_results)*100:.1f}')\n",
    "print(f'{np.array(ase_results).mean()*100:.1f} +/- {sem(ase_results)*100:.1f}')\n",
    "print(f'{np.array(glase_results).mean()*100:.1f} +/- {sem(glase_results)*100:.1f}')\n",
    "print(f'{np.array(glase_results_e2e).mean()*100:.1f} +/- {sem(glase_results_e2e)*100:.1f}')"
   ]
  },
  {
   "cell_type": "markdown",
   "metadata": {},
   "source": [
    "### M06"
   ]
  },
  {
   "cell_type": "code",
   "execution_count": 36,
   "metadata": {},
   "outputs": [
    {
     "name": "stdout",
     "output_type": "stream",
     "text": [
      "83.1 +/- 0.3\n",
      "83.2 +/- 0.5\n",
      "84.3 +/- 0.4\n",
      "85.4 +/- 0.5\n"
     ]
    }
   ],
   "source": [
    "FEAT_RESULTS = '../training/results/cora/cora_features_GAT_results_M06_d6.pkl'\n",
    "ASE_RESULTS = '../training/results/cora/cora_ase_GAT_results_M06_d6.pkl'\n",
    "GLASE_RESULTS = '../training/results/cora/cora_glase_GAT_results_M06_d6.pkl'\n",
    "GLASE_RESULTS_E2E = '../training/results/cora/cora_glase_e2e_results_M06_d6.pkl'\n",
    "\n",
    "\n",
    "with open(FEAT_RESULTS, 'rb') as f:\n",
    "    feat_results = pickle.load(f)\n",
    "    \n",
    "with open(ASE_RESULTS, 'rb') as f:\n",
    "    ase_results = pickle.load(f)\n",
    "\n",
    "with open(GLASE_RESULTS, 'rb') as f:\n",
    "    glase_results = pickle.load(f)\n",
    "    \n",
    "with open(GLASE_RESULTS_E2E, 'rb') as f:\n",
    "    glase_results_e2e = pickle.load(f)\n",
    "\n",
    "\n",
    "print(f'{np.array(feat_results).mean()*100:.1f}  c {sem(feat_results)*100:.1f}')\n",
    "print(f'{np.array(ase_results).mean()*100:.1f} +/- {sem(ase_results)*100:.1f}')\n",
    "print(f'{np.array(glase_results).mean()*100:.1f} +/- {sem(glase_results)*100:.1f}')\n",
    "print(f'{np.array(glase_results_e2e).mean()*100:.1f} +/- {sem(glase_results_e2e)*100:.1f}')"
   ]
  },
  {
   "cell_type": "markdown",
   "metadata": {},
   "source": [
    "### M04"
   ]
  },
  {
   "cell_type": "code",
   "execution_count": 45,
   "metadata": {},
   "outputs": [
    {
     "name": "stdout",
     "output_type": "stream",
     "text": [
      "79.3 +/- 0.5\n",
      "79.0 +/- 0.3\n",
      "83.2 +/- 0.6\n",
      "85.5 +/- 0.6\n"
     ]
    }
   ],
   "source": [
    "FEAT_RESULTS = '../training/results/cora/cora_features_GAT_results_M04_d6.pkl'\n",
    "ASE_RESULTS = '../training/results/cora/cora_ase_GAT_results_M04_d6.pkl'\n",
    "GLASE_RESULTS = '../training/results/cora/cora_glase_GAT_results_M04_d6.pkl'\n",
    "GLASE_RESULTS_E2E = '../training/results/cora/cora_glase_e2e_results_M04_d6.pkl'\n",
    "\n",
    "\n",
    "with open(FEAT_RESULTS, 'rb') as f:\n",
    "    feat_results = pickle.load(f)\n",
    "    \n",
    "with open(ASE_RESULTS, 'rb') as f:\n",
    "    ase_results = pickle.load(f)\n",
    "\n",
    "with open(GLASE_RESULTS, 'rb') as f:\n",
    "    glase_results = pickle.load(f)\n",
    "    \n",
    "with open(GLASE_RESULTS_E2E, 'rb') as f:\n",
    "    glase_results_e2e = pickle.load(f)\n",
    "    \n",
    "\n",
    "print(f'{np.array(feat_results).mean()*100:.1f} +/- {sem(feat_results)*100:.1f}')\n",
    "print(f'{np.array(ase_results).mean()*100:.1f} +/- {sem(ase_results)*100:.1f}')\n",
    "print(f'{np.array(glase_results).mean()*100:.1f} +/- {sem(glase_results)*100:.1f}')\n",
    "print(f'{np.array(glase_results_e2e).mean()*100:.1f} +/- {sem(glase_results_e2e)*100:.1f}')"
   ]
  },
  {
   "cell_type": "markdown",
   "metadata": {},
   "source": [
    "### M02"
   ]
  },
  {
   "cell_type": "code",
   "execution_count": 49,
   "metadata": {},
   "outputs": [
    {
     "name": "stdout",
     "output_type": "stream",
     "text": [
      "73.8 +/- 0.8\n",
      "73.0 +/- 0.6\n",
      "79.6 +/- 0.4\n",
      "84.6 +/- 0.5\n"
     ]
    }
   ],
   "source": [
    "FEAT_RESULTS = '../training/results/cora/cora_features_GAT_results_M02_d6.pkl'\n",
    "ASE_RESULTS = '../training/results/cora/cora_ase_GAT_results_M02_d6.pkl'\n",
    "GLASE_RESULTS = '../training/results/cora/cora_glase_GAT_results_M02_d6.pkl'\n",
    "GLASE_RESULTS_E2E = '../training/results/cora/cora_glase_e2e_results_M02_d6.pkl'\n",
    "\n",
    "\n",
    "with open(FEAT_RESULTS, 'rb') as f:\n",
    "    feat_results = pickle.load(f)\n",
    "    \n",
    "with open(ASE_RESULTS, 'rb') as f:\n",
    "    ase_results = pickle.load(f)\n",
    "\n",
    "with open(GLASE_RESULTS, 'rb') as f:\n",
    "    glase_results = pickle.load(f)\n",
    "    \n",
    "with open(GLASE_RESULTS_E2E, 'rb') as f:\n",
    "    glase_results_e2e = pickle.load(f)\n",
    "    \n",
    "\n",
    "print(f'{np.array(feat_results).mean()*100:.1f} +/- {sem(feat_results)*100:.1f}')\n",
    "print(f'{np.array(ase_results).mean()*100:.1f} +/- {sem(ase_results)*100:.1f}')\n",
    "print(f'{np.array(glase_results).mean()*100:.1f} +/- {sem(glase_results)*100:.1f}')\n",
    "print(f'{np.array(glase_results_e2e).mean()*100:.1f} +/- {sem(glase_results_e2e)*100:.1f}')"
   ]
  },
  {
   "cell_type": "markdown",
   "metadata": {},
   "source": [
    "# Citeseer"
   ]
  },
  {
   "cell_type": "code",
   "execution_count": 2,
   "metadata": {},
   "outputs": [
    {
     "name": "stdout",
     "output_type": "stream",
     "text": [
      "75.0 +/- 0.2\n",
      "74.6 +/- 0.4\n",
      "74.6 +/- 0.3\n",
      "74.6 +/- 0.4\n"
     ]
    }
   ],
   "source": [
    "FEAT_RESULTS = '../training/results/citeseer/citeseer_features_GAT_results_FULL_d6.pkl'\n",
    "ASE_RESULTS = '../training/results/citeseer/citeseer_ase_GAT_results_FULL_d6.pkl'\n",
    "GLASE_RESULTS = '../training/results/citeseer/citeseer_glase_GAT_results_FULL_d6.pkl'\n",
    "GLASE_RESULTS_E2E = '../training/results/citeseer/citeseer_glase_e2e_results_FULL_d6_0.5.pkl'\n",
    "\n",
    "\n",
    "with open(FEAT_RESULTS, 'rb') as f:\n",
    "    feat_results = pickle.load(f)\n",
    "    \n",
    "with open(ASE_RESULTS, 'rb') as f:\n",
    "    ase_results = pickle.load(f)\n",
    "\n",
    "with open(GLASE_RESULTS, 'rb') as f:\n",
    "    glase_results = pickle.load(f)\n",
    "    \n",
    "with open(GLASE_RESULTS_E2E, 'rb') as f:\n",
    "    glase_results_e2e = pickle.load(f)\n",
    "    \n",
    "\n",
    "print(f'{np.array(feat_results).mean()*100:.1f} +/- {sem(feat_results)*100:.1f}')\n",
    "print(f'{np.array(ase_results).mean()*100:.1f} +/- {sem(ase_results)*100:.1f}')\n",
    "print(f'{np.array(glase_results).mean()*100:.1f} +/- {sem(glase_results)*100:.1f}')\n",
    "print(f'{np.array(glase_results_e2e)[2,:].mean()*100:.1f} +/- {sem(np.array(glase_results_e2e)[2,:])*100:.1f}')"
   ]
  },
  {
   "cell_type": "code",
   "execution_count": 3,
   "metadata": {},
   "outputs": [
    {
     "name": "stdout",
     "output_type": "stream",
     "text": [
      "73.7 +/- 0.5\n",
      "73.8 +/- 0.4\n",
      "73.7 +/- 0.4\n",
      "73.0 +/- 0.5\n"
     ]
    }
   ],
   "source": [
    "mask=\"M08\"\n",
    "FEAT_RESULTS = f'../training/results/citeseer/citeseer_features_GAT_results_{mask}_d6.pkl'\n",
    "ASE_RESULTS = f'../training/results/citeseer/citeseer_ase_GAT_results_{mask}_d6.pkl'\n",
    "GLASE_RESULTS = f'../training/results/citeseer/citeseer_glase_GAT_results_{mask}_d6.pkl'\n",
    "GLASE_RESULTS_E2E = f'../training/results/citeseer/citeseer_glase_e2e_results_{mask}_d6_0.5.pkl'\n",
    "\n",
    "\n",
    "with open(FEAT_RESULTS, 'rb') as f:\n",
    "    feat_results = pickle.load(f)\n",
    "    \n",
    "with open(ASE_RESULTS, 'rb') as f:\n",
    "    ase_results = pickle.load(f)\n",
    "\n",
    "with open(GLASE_RESULTS, 'rb') as f:\n",
    "    glase_results = pickle.load(f)\n",
    "    \n",
    "with open(GLASE_RESULTS_E2E, 'rb') as f:\n",
    "    glase_results_e2e = pickle.load(f)\n",
    "    \n",
    "\n",
    "print(f'{np.array(feat_results).mean()*100:.1f} +/- {sem(feat_results)*100:.1f}')\n",
    "print(f'{np.array(ase_results).mean()*100:.1f} +/- {sem(ase_results)*100:.1f}')\n",
    "print(f'{np.array(glase_results).mean()*100:.1f} +/- {sem(glase_results)*100:.1f}')\n",
    "print(f'{np.array(glase_results_e2e)[2,:].mean()*100:.1f} +/- {sem(np.array(glase_results_e2e)[2,:])*100:.1f}')"
   ]
  },
  {
   "cell_type": "code",
   "execution_count": 1,
   "metadata": {},
   "outputs": [
    {
     "ename": "NameError",
     "evalue": "name 'pickle' is not defined",
     "output_type": "error",
     "traceback": [
      "\u001b[0;31m---------------------------------------------------------------------------\u001b[0m",
      "\u001b[0;31mNameError\u001b[0m                                 Traceback (most recent call last)",
      "Cell \u001b[0;32mIn[1], line 9\u001b[0m\n\u001b[1;32m      5\u001b[0m GLASE_RESULTS_E2E \u001b[38;5;241m=\u001b[39m \u001b[38;5;124mf\u001b[39m\u001b[38;5;124m'\u001b[39m\u001b[38;5;124m../training/results/citeseer/citeseer_glase_e2e_results_\u001b[39m\u001b[38;5;132;01m{\u001b[39;00mmask\u001b[38;5;132;01m}\u001b[39;00m\u001b[38;5;124m_d6_0.5.pkl\u001b[39m\u001b[38;5;124m'\u001b[39m\n\u001b[1;32m      8\u001b[0m \u001b[38;5;28;01mwith\u001b[39;00m \u001b[38;5;28mopen\u001b[39m(FEAT_RESULTS, \u001b[38;5;124m'\u001b[39m\u001b[38;5;124mrb\u001b[39m\u001b[38;5;124m'\u001b[39m) \u001b[38;5;28;01mas\u001b[39;00m f:\n\u001b[0;32m----> 9\u001b[0m     feat_results \u001b[38;5;241m=\u001b[39m \u001b[43mpickle\u001b[49m\u001b[38;5;241m.\u001b[39mload(f)\n\u001b[1;32m     11\u001b[0m \u001b[38;5;28;01mwith\u001b[39;00m \u001b[38;5;28mopen\u001b[39m(ASE_RESULTS, \u001b[38;5;124m'\u001b[39m\u001b[38;5;124mrb\u001b[39m\u001b[38;5;124m'\u001b[39m) \u001b[38;5;28;01mas\u001b[39;00m f:\n\u001b[1;32m     12\u001b[0m     ase_results \u001b[38;5;241m=\u001b[39m pickle\u001b[38;5;241m.\u001b[39mload(f)\n",
      "\u001b[0;31mNameError\u001b[0m: name 'pickle' is not defined"
     ]
    }
   ],
   "source": [
    "mask=\"M06\"\n",
    "FEAT_RESULTS = f'../training/results/citeseer/citeseer_features_GAT_results_{mask}_d6.pkl'\n",
    "ASE_RESULTS = f'../training/results/citeseer/citeseer_ase_GAT_results_{mask}_d6.pkl'\n",
    "GLASE_RESULTS = f'../training/results/citeseer/citeseer_glase_GAT_results_{mask}_d6.pkl'\n",
    "GLASE_RESULTS_E2E = f'../training/results/citeseer/citeseer_glase_e2e_results_{mask}_d6_0.5.pkl'\n",
    "\n",
    "\n",
    "with open(FEAT_RESULTS, 'rb') as f:\n",
    "    feat_results = pickle.load(f)\n",
    "    \n",
    "with open(ASE_RESULTS, 'rb') as f:\n",
    "    ase_results = pickle.load(f)\n",
    "\n",
    "with open(GLASE_RESULTS, 'rb') as f:\n",
    "    glase_results = pickle.load(f)\n",
    "    \n",
    "with open(GLASE_RESULTS_E2E, 'rb') as f:\n",
    "    glase_results_e2e = pickle.load(f)\n",
    "    \n",
    "\n",
    "print(f'{np.array(feat_results).mean()*100:.1f} +/- {sem(feat_results)*100:.1f}')\n",
    "print(f'{np.array(ase_results).mean()*100:.1f} +/- {sem(ase_results)*100:.1f}')\n",
    "print(f'{np.array(glase_results).mean()*100:.1f} +/- {sem(glase_results)*100:.1f}')\n",
    "print(f'{np.array(glase_results_e2e)[2,:].mean()*100:.1f} +/- {sem(np.array(glase_results_e2e)[2,:])*100:.1f}')"
   ]
  },
  {
   "cell_type": "code",
   "execution_count": 5,
   "metadata": {},
   "outputs": [
    {
     "name": "stdout",
     "output_type": "stream",
     "text": [
      "72.3 +/- 0.6\n",
      "71.9 +/- 0.7\n",
      "72.3 +/- 0.5\n",
      "72.4 +/- 0.5\n"
     ]
    }
   ],
   "source": [
    "mask=\"M04\"\n",
    "FEAT_RESULTS = f'../training/results/citeseer/citeseer_features_GAT_results_{mask}_d6.pkl'\n",
    "ASE_RESULTS = f'../training/results/citeseer/citeseer_ase_GAT_results_{mask}_d6.pkl'\n",
    "GLASE_RESULTS = f'../training/results/citeseer/citeseer_glase_GAT_results_{mask}_d6.pkl'\n",
    "GLASE_RESULTS_E2E = f'../training/results/citeseer/citeseer_glase_e2e_results_{mask}_d6_0.5.pkl'\n",
    "\n",
    "\n",
    "with open(FEAT_RESULTS, 'rb') as f:\n",
    "    feat_results = pickle.load(f)\n",
    "    \n",
    "with open(ASE_RESULTS, 'rb') as f:\n",
    "    ase_results = pickle.load(f)\n",
    "\n",
    "with open(GLASE_RESULTS, 'rb') as f:\n",
    "    glase_results = pickle.load(f)\n",
    "    \n",
    "with open(GLASE_RESULTS_E2E, 'rb') as f:\n",
    "    glase_results_e2e = pickle.load(f)\n",
    "    \n",
    "\n",
    "print(f'{np.array(feat_results).mean()*100:.1f} +/- {sem(feat_results)*100:.1f}')\n",
    "print(f'{np.array(ase_results).mean()*100:.1f} +/- {sem(ase_results)*100:.1f}')\n",
    "print(f'{np.array(glase_results).mean()*100:.1f} +/- {sem(glase_results)*100:.1f}')\n",
    "print(f'{np.array(glase_results_e2e)[2,:].mean()*100:.1f} +/- {sem(np.array(glase_results_e2e)[2,:])*100:.1f}')"
   ]
  },
  {
   "cell_type": "code",
   "execution_count": 6,
   "metadata": {},
   "outputs": [
    {
     "name": "stdout",
     "output_type": "stream",
     "text": [
      "71.8 +/- 0.4\n",
      "71.1 +/- 0.3\n",
      "71.9 +/- 0.7\n",
      "71.0 +/- 0.2\n"
     ]
    }
   ],
   "source": [
    "mask=\"M02\"\n",
    "FEAT_RESULTS = f'../training/results/citeseer/citeseer_features_GAT_results_{mask}_d6.pkl'\n",
    "ASE_RESULTS = f'../training/results/citeseer/citeseer_ase_GAT_results_{mask}_d6.pkl'\n",
    "GLASE_RESULTS = f'../training/results/citeseer/citeseer_glase_GAT_results_{mask}_d6.pkl'\n",
    "GLASE_RESULTS_E2E = f'../training/results/citeseer/citeseer_glase_e2e_results_{mask}_d6_0.5.pkl'\n",
    "\n",
    "\n",
    "with open(FEAT_RESULTS, 'rb') as f:\n",
    "    feat_results = pickle.load(f)\n",
    "    \n",
    "with open(ASE_RESULTS, 'rb') as f:\n",
    "    ase_results = pickle.load(f)\n",
    "\n",
    "with open(GLASE_RESULTS, 'rb') as f:\n",
    "    glase_results = pickle.load(f)\n",
    "    \n",
    "with open(GLASE_RESULTS_E2E, 'rb') as f:\n",
    "    glase_results_e2e = pickle.load(f)\n",
    "    \n",
    "\n",
    "print(f'{np.array(feat_results).mean()*100:.1f} +/- {sem(feat_results)*100:.1f}')\n",
    "print(f'{np.array(ase_results).mean()*100:.1f} +/- {sem(ase_results)*100:.1f}')\n",
    "print(f'{np.array(glase_results).mean()*100:.1f} +/- {sem(glase_results)*100:.1f}')\n",
    "print(f'{np.array(glase_results_e2e)[2,:].mean()*100:.1f} +/- {sem(np.array(glase_results_e2e)[2,:])*100:.1f}')"
   ]
  },
  {
   "cell_type": "markdown",
   "metadata": {},
   "source": [
    "# Twitch"
   ]
  },
  {
   "cell_type": "code",
   "execution_count": 2,
   "metadata": {},
   "outputs": [
    {
     "name": "stdout",
     "output_type": "stream",
     "text": [
      "70.9 +/- 0.5\n",
      "71.1 +/- 0.5\n",
      "71.4 +/- 0.4\n",
      "71.8 +/- 0.5\n"
     ]
    }
   ],
   "source": [
    "mask=\"FULL\"\n",
    "dataset=\"Twitch_ES\"\n",
    "d=2\n",
    "FEAT_RESULTS = f'../training/results/{dataset}/{dataset}_features_GAT_results_{mask}_d{d}.pkl'\n",
    "ASE_RESULTS = f'../training/results/{dataset}/{dataset}_ase_GAT_results_{mask}_d{d}.pkl'\n",
    "GLASE_RESULTS = f'../training/results/{dataset}/{dataset}_glase_GAT_results_{mask}_d{d}.pkl'\n",
    "GLASE_RESULTS_E2E = f'../training/results/{dataset}/{dataset}_glase_e2e_results_{mask}_d{d}_0.5.pkl'\n",
    "\n",
    "\n",
    "with open(FEAT_RESULTS, 'rb') as f:\n",
    "    feat_results = pickle.load(f)\n",
    "    \n",
    "with open(ASE_RESULTS, 'rb') as f:\n",
    "    ase_results = pickle.load(f)\n",
    "\n",
    "with open(GLASE_RESULTS, 'rb') as f:\n",
    "    glase_results = pickle.load(f)\n",
    "    \n",
    "with open(GLASE_RESULTS_E2E, 'rb') as f:\n",
    "    glase_results_e2e = pickle.load(f)\n",
    "    \n",
    "\n",
    "print(f'{np.array(feat_results).mean()*100:.1f} +/- {sem(feat_results)*100:.1f}')\n",
    "print(f'{np.array(ase_results).mean()*100:.1f} +/- {sem(ase_results)*100:.1f}')\n",
    "print(f'{np.array(glase_results).mean()*100:.1f} +/- {sem(glase_results)*100:.1f}')\n",
    "print(f'{np.array(glase_results_e2e)[2,:].mean()*100:.1f} +/- {sem(np.array(glase_results_e2e)[2,:])*100:.1f}')"
   ]
  },
  {
   "cell_type": "code",
   "execution_count": 3,
   "metadata": {},
   "outputs": [
    {
     "name": "stdout",
     "output_type": "stream",
     "text": [
      "71.0 +/- 0.6\n",
      "71.5 +/- 0.6\n",
      "70.5 +/- 0.5\n",
      "71.8 +/- 0.7\n"
     ]
    }
   ],
   "source": [
    "mask=\"M08\"\n",
    "dataset=\"Twitch_ES\"\n",
    "d=2\n",
    "FEAT_RESULTS = f'../training/results/{dataset}/{dataset}_features_GAT_results_{mask}_d{d}.pkl'\n",
    "ASE_RESULTS = f'../training/results/{dataset}/{dataset}_ase_GAT_results_{mask}_d{d}.pkl'\n",
    "GLASE_RESULTS = f'../training/results/{dataset}/{dataset}_glase_GAT_results_{mask}_d{d}.pkl'\n",
    "GLASE_RESULTS_E2E = f'../training/results/{dataset}/{dataset}_glase_e2e_results_{mask}_d{d}_0.5.pkl'\n",
    "\n",
    "\n",
    "with open(FEAT_RESULTS, 'rb') as f:\n",
    "    feat_results = pickle.load(f)\n",
    "    \n",
    "with open(ASE_RESULTS, 'rb') as f:\n",
    "    ase_results = pickle.load(f)\n",
    "\n",
    "with open(GLASE_RESULTS, 'rb') as f:\n",
    "    glase_results = pickle.load(f)\n",
    "    \n",
    "with open(GLASE_RESULTS_E2E, 'rb') as f:\n",
    "    glase_results_e2e = pickle.load(f)\n",
    "    \n",
    "\n",
    "print(f'{np.array(feat_results).mean()*100:.1f} +/- {sem(feat_results)*100:.1f}')\n",
    "print(f'{np.array(ase_results).mean()*100:.1f} +/- {sem(ase_results)*100:.1f}')\n",
    "print(f'{np.array(glase_results).mean()*100:.1f} +/- {sem(glase_results)*100:.1f}')\n",
    "print(f'{np.array(glase_results_e2e)[2,:].mean()*100:.1f} +/- {sem(np.array(glase_results_e2e)[2,:])*100:.1f}')"
   ]
  },
  {
   "cell_type": "code",
   "execution_count": 3,
   "metadata": {},
   "outputs": [
    {
     "name": "stdout",
     "output_type": "stream",
     "text": [
      "70.6 +/- 0.4\n",
      "71.3 +/- 0.6\n",
      "71.2 +/- 0.5\n",
      "71.1 +/- 0.6\n"
     ]
    }
   ],
   "source": [
    "mask=\"M06\"\n",
    "dataset=\"Twitch_ES\"\n",
    "d=2\n",
    "FEAT_RESULTS = f'../training/results/{dataset}/{dataset}_features_GAT_results_{mask}_d{d}.pkl'\n",
    "ASE_RESULTS = f'../training/results/{dataset}/{dataset}_ase_GAT_results_{mask}_d{d}.pkl'\n",
    "GLASE_RESULTS = f'../training/results/{dataset}/{dataset}_glase_GAT_results_{mask}_d{d}.pkl'\n",
    "GLASE_RESULTS_E2E = f'../training/results/{dataset}/{dataset}_glase_e2e_results_{mask}_d{d}_0.5.pkl'\n",
    "\n",
    "\n",
    "with open(FEAT_RESULTS, 'rb') as f:\n",
    "    feat_results = pickle.load(f)\n",
    "    \n",
    "with open(ASE_RESULTS, 'rb') as f:\n",
    "    ase_results = pickle.load(f)\n",
    "\n",
    "with open(GLASE_RESULTS, 'rb') as f:\n",
    "    glase_results = pickle.load(f)\n",
    "    \n",
    "with open(GLASE_RESULTS_E2E, 'rb') as f:\n",
    "    glase_results_e2e = pickle.load(f)\n",
    "    \n",
    "    \n",
    "\n",
    "print(f'{np.array(feat_results).mean()*100:.1f} +/- {sem(feat_results)*100:.1f}')\n",
    "print(f'{np.array(ase_results).mean()*100:.1f} +/- {sem(ase_results)*100:.1f}')\n",
    "print(f'{np.array(glase_results).mean()*100:.1f} +/- {sem(glase_results)*100:.1f}')\n",
    "print(f'{np.array(glase_results_e2e)[2,:].mean()*100:.1f} +/- {sem(np.array(glase_results_e2e)[2,:])*100:.1f}')"
   ]
  },
  {
   "cell_type": "code",
   "execution_count": 4,
   "metadata": {},
   "outputs": [
    {
     "name": "stdout",
     "output_type": "stream",
     "text": [
      "70.6 +/- 0.6\n",
      "70.9 +/- 0.6\n",
      "70.6 +/- 0.4\n",
      "70.2 +/- 0.5\n"
     ]
    }
   ],
   "source": [
    "mask=\"M04\"\n",
    "dataset=\"Twitch_ES\"\n",
    "d=2\n",
    "FEAT_RESULTS = f'../training/results/{dataset}/{dataset}_features_GAT_results_{mask}_d{d}.pkl'\n",
    "ASE_RESULTS = f'../training/results/{dataset}/{dataset}_ase_GAT_results_{mask}_d{d}.pkl'\n",
    "GLASE_RESULTS = f'../training/results/{dataset}/{dataset}_glase_GAT_results_{mask}_d{d}.pkl'\n",
    "GLASE_RESULTS_E2E = f'../training/results/{dataset}/{dataset}_glase_e2e_results_{mask}_d{d}_0.5.pkl'\n",
    "\n",
    "\n",
    "with open(FEAT_RESULTS, 'rb') as f:\n",
    "    feat_results = pickle.load(f)\n",
    "    \n",
    "with open(ASE_RESULTS, 'rb') as f:\n",
    "    ase_results = pickle.load(f)\n",
    "\n",
    "with open(GLASE_RESULTS, 'rb') as f:\n",
    "    glase_results = pickle.load(f)\n",
    "    \n",
    "with open(GLASE_RESULTS_E2E, 'rb') as f:\n",
    "    glase_results_e2e = pickle.load(f)\n",
    "    \n",
    "\n",
    "print(f'{np.array(feat_results).mean()*100:.1f} +/- {sem(feat_results)*100:.1f}')\n",
    "print(f'{np.array(ase_results).mean()*100:.1f} +/- {sem(ase_results)*100:.1f}')\n",
    "print(f'{np.array(glase_results).mean()*100:.1f} +/- {sem(glase_results)*100:.1f}')\n",
    "print(f'{np.array(glase_results_e2e)[2,:].mean()*100:.1f} +/- {sem(np.array(glase_results_e2e)[2,:])*100:.1f}')"
   ]
  },
  {
   "cell_type": "code",
   "execution_count": 5,
   "metadata": {},
   "outputs": [
    {
     "data": {
      "text/plain": [
       "[[0.7481162540365985,\n",
       "  0.7190527448869752,\n",
       "  0.7136706135629709,\n",
       "  0.7545748116254036,\n",
       "  0.7039827771797632,\n",
       "  0.7610333692142088,\n",
       "  0.7341227125941873,\n",
       "  0.7115177610333692,\n",
       "  0.7265877287405813,\n",
       "  0.7222820236813778],\n",
       " [165.36741638183594,\n",
       "  168.8865509033203,\n",
       "  285.9560546875,\n",
       "  168.58395385742188,\n",
       "  605.704345703125,\n",
       "  165.33534240722656,\n",
       "  162.7595977783203,\n",
       "  180.31494140625,\n",
       "  266.7333984375,\n",
       "  425.2266540527344],\n",
       " [0.6992481203007519,\n",
       "  0.6992481203007519,\n",
       "  0.723952738990333,\n",
       "  0.6938775510204082,\n",
       "  0.677765843179377,\n",
       "  0.7164339419978518,\n",
       "  0.7261009667024705,\n",
       "  0.7121374865735768,\n",
       "  0.6852846401718582,\n",
       "  0.6895810955961332]]"
      ]
     },
     "execution_count": 5,
     "metadata": {},
     "output_type": "execute_result"
    }
   ],
   "source": [
    "glase_results_e2e"
   ]
  },
  {
   "cell_type": "code",
   "execution_count": 3,
   "metadata": {},
   "outputs": [
    {
     "name": "stdout",
     "output_type": "stream",
     "text": [
      "69.9 +/- 0.5\n",
      "70.1 +/- 0.5\n",
      "70.1 +/- 0.5\n",
      "70.0 +/- 0.6\n"
     ]
    }
   ],
   "source": [
    "mask=\"M02\"\n",
    "dataset=\"Twitch_ES\"\n",
    "d=2\n",
    "FEAT_RESULTS = f'../training/results/{dataset}/{dataset}_features_GAT_results_{mask}_d{d}.pkl'\n",
    "ASE_RESULTS = f'../training/results/{dataset}/{dataset}_ase_GAT_results_{mask}_d{d}.pkl'\n",
    "GLASE_RESULTS = f'../training/results/{dataset}/{dataset}_glase_GAT_results_{mask}_d{d}.pkl'\n",
    "GLASE_RESULTS_E2E = f'../training/results/{dataset}/{dataset}_glase_e2e_results_{mask}_d{d}_0.5.pkl'\n",
    "\n",
    "\n",
    "with open(FEAT_RESULTS, 'rb') as f:\n",
    "    feat_results = pickle.load(f)\n",
    "    \n",
    "with open(ASE_RESULTS, 'rb') as f:\n",
    "    ase_results = pickle.load(f)\n",
    "\n",
    "with open(GLASE_RESULTS, 'rb') as f:\n",
    "    glase_results = pickle.load(f)\n",
    "    \n",
    "with open(GLASE_RESULTS_E2E, 'rb') as f:\n",
    "    glase_results_e2e = pickle.load(f)\n",
    "    \n",
    "\n",
    "print(f'{np.array(feat_results).mean()*100:.1f} +/- {sem(feat_results)*100:.1f}')\n",
    "print(f'{np.array(ase_results).mean()*100:.1f} +/- {sem(ase_results)*100:.1f}')\n",
    "print(f'{np.array(glase_results).mean()*100:.1f} +/- {sem(glase_results)*100:.1f}')\n",
    "print(f'{np.array(glase_results_e2e)[2,:].mean()*100:.1f} +/- {sem(np.array(glase_results_e2e)[2,:])*100:.1f}')"
   ]
  },
  {
   "cell_type": "markdown",
   "metadata": {},
   "source": [
    "<!-- # Amazon -->"
   ]
  },
  {
   "cell_type": "code",
   "execution_count": 12,
   "metadata": {},
   "outputs": [],
   "source": [
    "# Function to remove outliers using the IQR\n",
    "def remove_outliers(series):\n",
    "    Q1 = series.quantile(0.25)\n",
    "    Q3 = series.quantile(0.75)\n",
    "    IQR = Q3 - Q1\n",
    "    lower_bound = Q1 - 1.5 * IQR\n",
    "    upper_bound = Q3 + 1.5 * IQR\n",
    "    \n",
    "    return series[(series >= lower_bound) & (series <= upper_bound)]"
   ]
  },
  {
   "cell_type": "markdown",
   "metadata": {},
   "source": [
    "### Full"
   ]
  },
  {
   "cell_type": "code",
   "execution_count": 103,
   "metadata": {},
   "outputs": [
    {
     "name": "stdout",
     "output_type": "stream",
     "text": [
      "94.3 +/- 0.6\n",
      "93.9 +/- 0.6\n",
      "94.2 +/- 0.6\n",
      "94.4 +/- 0.4\n"
     ]
    }
   ],
   "source": [
    "FEAT_RESULTS_FULL = '../training/results/amazon/amazon_features_GAT_results_FULL_d8.pkl'\n",
    "ASE_RESULTS_FULL = '../training/results/amazon/amazon_ase_GAT_results_FULL_d8.pkl'\n",
    "GLASE_RESULTS_FULL = '../training/results/amazon/amazon_glase_GAT_results_FULL_d8.pkl'\n",
    "GLASE_E2E_RESULTS_FULL = '../training/results/amazon/amazon_glase_e2e_results_FULL_d8.pkl'\n",
    "\n",
    "\n",
    "with open(FEAT_RESULTS_FULL, 'rb') as f:\n",
    "    feat_results_full = pickle.load(f)\n",
    "\n",
    "with open(ASE_RESULTS_FULL, 'rb') as f:\n",
    "    ase_results_full = pickle.load(f)\n",
    "\n",
    "with open(GLASE_RESULTS_FULL, 'rb') as f:\n",
    "    glase_results_full = pickle.load(f)\n",
    "    \n",
    "with open(GLASE_E2E_RESULTS_FULL, 'rb') as f:\n",
    "    glase_e2e_results_full = pickle.load(f)\n",
    "\n",
    "print(f'{remove_outliers(pd.Series(feat_results_full)).mean()*100:.1f} +/- {remove_outliers(pd.Series(feat_results_full)).std()*100:.1f}')\n",
    "print(f'{remove_outliers(pd.Series(ase_results_full)).mean()*100:.1f} +/- {remove_outliers(pd.Series(ase_results_full)).std()*100:.1f}')\n",
    "print(f'{remove_outliers(pd.Series(glase_results_full)).mean()*100:.1f} +/- {remove_outliers(pd.Series(glase_results_full)).std()*100:.1f}')\n",
    "print(f'{remove_outliers(pd.Series(glase_e2e_results_full)).mean()*100:.1f} +/- {remove_outliers(pd.Series(glase_e2e_results_full)).std()*100:.1f}')"
   ]
  },
  {
   "cell_type": "markdown",
   "metadata": {},
   "source": [
    "### M08"
   ]
  },
  {
   "cell_type": "code",
   "execution_count": 104,
   "metadata": {},
   "outputs": [
    {
     "name": "stdout",
     "output_type": "stream",
     "text": [
      "94.2 +/- 0.4\n",
      "94.0 +/- 0.5\n",
      "93.7 +/- 0.8\n",
      "94.3 +/- 0.6\n"
     ]
    }
   ],
   "source": [
    "FEAT_RESULTS_M08 = '../training/results/amazon/amazon_features_GAT_results_M08_d8.pkl'\n",
    "ASE_RESULTS_M08 = '../training/results/amazon/amazon_ase_GAT_results_M08_d8.pkl'\n",
    "GLASE_RESULTS_M08 = '../training/results/amazon/amazon_glase_GAT_results_M08_d8.pkl'\n",
    "GLASE_E2E_RESULTS_M08 = '../training/results/amazon/amazon_glase_e2e_results_M08_d8.pkl'\n",
    "\n",
    "with open(FEAT_RESULTS_M08, 'rb') as f:\n",
    "    feat_results_M08 = pickle.load(f)\n",
    "\n",
    "with open(ASE_RESULTS_M08, 'rb') as f:\n",
    "    ase_results_M08 = pickle.load(f)\n",
    "\n",
    "with open(GLASE_RESULTS_M08, 'rb') as f:\n",
    "    glase_results_M08 = pickle.load(f)\n",
    "\n",
    "with open(GLASE_E2E_RESULTS_M08, 'rb') as f:\n",
    "    glase_e2e_results_M08 = pickle.load(f)\n",
    "\n",
    "print(f'{remove_outliers(pd.Series(feat_results_M08)).mean()*100:.1f} +/- {remove_outliers(pd.Series(feat_results_M08)).std()*100:.1f}')\n",
    "print(f'{remove_outliers(pd.Series(ase_results_M08)).mean()*100:.1f} +/- {remove_outliers(pd.Series(ase_results_M08)).std()*100:.1f}')\n",
    "print(f'{remove_outliers(pd.Series(glase_results_M08)).mean()*100:.1f} +/- {remove_outliers(pd.Series(glase_results_M08)).std()*100:.1f}')\n",
    "print(f'{remove_outliers(pd.Series(glase_e2e_results_M08)).mean()*100:.1f} +/- {remove_outliers(pd.Series(glase_e2e_results_M08)).std()*100:.1f}')"
   ]
  },
  {
   "cell_type": "markdown",
   "metadata": {},
   "source": [
    "### M06"
   ]
  },
  {
   "cell_type": "code",
   "execution_count": 105,
   "metadata": {},
   "outputs": [
    {
     "name": "stdout",
     "output_type": "stream",
     "text": [
      "93.9 +/- 0.7\n",
      "93.6 +/- 1.5\n",
      "93.8 +/- 0.6\n",
      "94.0 +/- 0.3\n"
     ]
    }
   ],
   "source": [
    "FEAT_RESULTS_M06 = '../training/results/amazon/amazon_features_GAT_results_M06_d8.pkl'\n",
    "ASE_RESULTS_M06 = '../training/results/amazon/amazon_ase_GAT_results_M06_d8.pkl'\n",
    "GLASE_RESULTS_M06 = '../training/results/amazon/amazon_glase_GAT_results_M06_d8.pkl'\n",
    "GLASE_E2E_RESULTS_M06 = '../training/results/amazon/amazon_glase_e2e_results_M06_d8.pkl'\n",
    "\n",
    "with open(FEAT_RESULTS_M06, 'rb') as f:\n",
    "    feat_results_M06 = pickle.load(f)\n",
    "\n",
    "with open(ASE_RESULTS_M06, 'rb') as f:\n",
    "    ase_results_M06 = pickle.load(f)\n",
    "\n",
    "with open(GLASE_RESULTS_M06, 'rb') as f:\n",
    "    glase_results_M06 = pickle.load(f)\n",
    "\n",
    "with open(GLASE_E2E_RESULTS_M06, 'rb') as f:\n",
    "    glase_e2e_results_M06 = pickle.load(f)\n",
    "\n",
    "\n",
    "print(f'{remove_outliers(pd.Series(feat_results_M06)).mean()*100:.1f} +/- {remove_outliers(pd.Series(feat_results_M06)).std()*100:.1f}')\n",
    "print(f'{remove_outliers(pd.Series(ase_results_M06)).mean()*100:.1f} +/- {remove_outliers(pd.Series(ase_results_M06)).std()*100:.1f}')\n",
    "print(f'{remove_outliers(pd.Series(glase_results_M06)).mean()*100:.1f} +/- {remove_outliers(pd.Series(glase_results_M06)).std()*100:.1f}')\n",
    "print(f'{remove_outliers(pd.Series(glase_e2e_results_M06)).mean()*100:.1f} +/- {remove_outliers(pd.Series(glase_e2e_results_M06)).std()*100:.1f}')"
   ]
  },
  {
   "cell_type": "markdown",
   "metadata": {},
   "source": [
    "### M04"
   ]
  },
  {
   "cell_type": "code",
   "execution_count": 106,
   "metadata": {},
   "outputs": [
    {
     "name": "stdout",
     "output_type": "stream",
     "text": [
      "93.5 +/- 0.6\n",
      "93.5 +/- 0.5\n",
      "93.1 +/- 0.9\n",
      "94.0 +/- 0.6\n"
     ]
    }
   ],
   "source": [
    "FEAT_RESULTS_M04 = '../training/results/amazon/amazon_features_GAT_results_M04_d8.pkl'\n",
    "ASE_RESULTS_M04 = '../training/results/amazon/amazon_ase_GAT_results_M04_d8.pkl'\n",
    "GLASE_RESULTS_M04 = '../training/results/amazon/amazon_glase_GAT_results_M04_d8.pkl'\n",
    "GLASE_E2E_RESULTS_M04 = '../training/results/amazon/amazon_glase_e2e_results_M04_d8.pkl'\n",
    "\n",
    "with open(FEAT_RESULTS_M04, 'rb') as f:\n",
    "    feat_results_M04 = pickle.load(f)\n",
    "\n",
    "with open(ASE_RESULTS_M04, 'rb') as f:\n",
    "    ase_results_M04 = pickle.load(f)\n",
    "\n",
    "with open(GLASE_RESULTS_M04, 'rb') as f:\n",
    "    glase_results_M04 = pickle.load(f)\n",
    "\n",
    "with open(GLASE_E2E_RESULTS_M04, 'rb') as f:\n",
    "    glase_e2e_results_M04 = pickle.load(f)\n",
    "\n",
    "print(f'{remove_outliers(pd.Series(feat_results_M04)).mean()*100:.1f} +/- {remove_outliers(pd.Series(feat_results_M04)).std()*100:.1f}')\n",
    "print(f'{remove_outliers(pd.Series(ase_results_M04)).mean()*100:.1f} +/- {remove_outliers(pd.Series(ase_results_M04)).std()*100:.1f}')\n",
    "print(f'{remove_outliers(pd.Series(glase_results_M04)).mean()*100:.1f} +/- {remove_outliers(pd.Series(glase_results_M04)).std()*100:.1f}')\n",
    "print(f'{remove_outliers(pd.Series(glase_e2e_results_M04)).mean()*100:.1f} +/- {remove_outliers(pd.Series(glase_e2e_results_M04)).std()*100:.1f}')"
   ]
  },
  {
   "cell_type": "markdown",
   "metadata": {},
   "source": [
    "### M02"
   ]
  },
  {
   "cell_type": "code",
   "execution_count": 107,
   "metadata": {},
   "outputs": [
    {
     "name": "stdout",
     "output_type": "stream",
     "text": [
      "92.9 +/- 0.7\n",
      "92.9 +/- 0.6\n",
      "92.6 +/- 0.7\n",
      "93.3 +/- 0.6\n"
     ]
    }
   ],
   "source": [
    "FEAT_RESULTS_M02 = '../training/results/amazon/amazon_features_GAT_results_M02_d8.pkl'\n",
    "ASE_RESULTS_M02 = '../training/results/amazon/amazon_ase_GAT_results_M02_d8.pkl'\n",
    "GLASE_RESULTS_M02 = '../training/results/amazon/amazon_glase_GAT_results_M02_d8.pkl'\n",
    "GLASE_E2E_RESULTS_M02 = '../training/results/amazon/amazon_glase_e2e_results_M02_d8.pkl'\n",
    "\n",
    "with open(FEAT_RESULTS_M02, 'rb') as f:\n",
    "    feat_results_M02 = pickle.load(f)\n",
    "\n",
    "with open(ASE_RESULTS_M02, 'rb') as f:\n",
    "    ase_results_M02 = pickle.load(f)\n",
    "\n",
    "with open(GLASE_RESULTS_M02, 'rb') as f:\n",
    "    glase_results_M02 = pickle.load(f)\n",
    "\n",
    "with open(GLASE_E2E_RESULTS_M02, 'rb') as f:\n",
    "    glase_e2e_results_M02 = pickle.load(f)\n",
    "\n",
    "\n",
    "print(f'{remove_outliers(pd.Series(feat_results_M02)).mean()*100:.1f} +/- {remove_outliers(pd.Series(feat_results_M02)).std()*100:.1f}')\n",
    "print(f'{remove_outliers(pd.Series(ase_results_M02)).mean()*100:.1f} +/- {remove_outliers(pd.Series(ase_results_M02)).std()*100:.1f}')\n",
    "print(f'{remove_outliers(pd.Series(glase_results_M02)).mean()*100:.1f} +/- {remove_outliers(pd.Series(glase_results_M02)).std()*100:.1f}')\n",
    "print(f'{remove_outliers(pd.Series(glase_e2e_results_M02)).mean()*100:.1f} +/- {remove_outliers(pd.Series(glase_e2e_results_M02)).std()*100:.1f}')"
   ]
  }
 ],
 "metadata": {
  "kernelspec": {
   "display_name": "env",
   "language": "python",
   "name": "python3"
  },
  "language_info": {
   "codemirror_mode": {
    "name": "ipython",
    "version": 3
   },
   "file_extension": ".py",
   "mimetype": "text/x-python",
   "name": "python",
   "nbconvert_exporter": "python",
   "pygments_lexer": "ipython3",
   "version": "3.9.12"
  }
 },
 "nbformat": 4,
 "nbformat_minor": 2
}
